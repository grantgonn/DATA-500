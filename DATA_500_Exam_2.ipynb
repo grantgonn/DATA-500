{
 "cells": [
  {
   "cell_type": "markdown",
   "metadata": {},
   "source": [
    "# Exercise 1 (20 points) \n",
    "\n",
    "Please state **True** or **False** for the below statements.\n",
    "\n",
    "- (a) Consistent indentation is crucial for code readability but does not affect the execution of Python code.\n",
    "\n",
    "- (b) Using descriptive variable names, such as `removing_outliers` instead of `data_out`, improves code readability and makes it easier for others to understand the purpose of the code.\n",
    "\n",
    "- (c) Leaving commented-out code in a script is considered good practice because it allows others to see previous attempts or ideas. \n",
    "\n",
    "- (d) Testing your code ensures that it is free from all bugs and errors. \n",
    "\n",
    "- (e) Writing test cases for your functions or scripts is considered a best practice in data science because it ensures your code works as expected for known inputs. \n",
    "\n",
    "- (f) Exploratory Data Analysis (EDA) does not require code testing since it is primarily used for visualization and data insights. \n",
    "\n",
    "- (g) Refactoring code in data science is only necessary when adding new features, not for improving existing code. \n",
    "\n",
    "- (h) Modular design in data science programming promotes reusability and simplifies debugging by dividing code into smaller, independent functions or classes. \n",
    "\n",
    "- (i) Writing detailed docstrings for functions and classes in your code is unnecessary if you include comments throughout your script. \n",
    "\n",
    "- (j) Good documentation in data science projects includes explanations of data sources, preprocessing steps, and the rationale behind chosen models or methods.  "
   ]
  },
  {
   "cell_type": "markdown",
   "metadata": {},
   "source": [
    "a. False\n",
    "\n",
    "b. True\n",
    "\n",
    "c. False\n",
    "\n",
    "d. False\n",
    "\n",
    "e. True\n",
    "\n",
    "f. False\n",
    "\n",
    "g. False\n",
    "\n",
    "h. True\n",
    "\n",
    "i. False\n",
    "\n",
    "j. True"
   ]
  },
  {
   "cell_type": "markdown",
   "metadata": {},
   "source": [
    "# Exercise 2 (4 points)\n",
    "\n",
    "Which of the following is the primary purpose of using consistent indentation in Python?\n",
    "\n",
    "- (a) To make the code look visually appealing.  \n",
    "- (b) To improve the performance of the code\n",
    "- (c) To indicate blocks of code and ensure proper execution.\n",
    "- (d) To reduce the file size of the script\n",
    "- (e) All of the above."
   ]
  },
  {
   "cell_type": "markdown",
   "metadata": {},
   "source": [
    "C"
   ]
  },
  {
   "cell_type": "markdown",
   "metadata": {},
   "source": [
    "# Exercise 3 (5 points)\n",
    "\n",
    "Consider the below Python code snipett.\n",
    "\n",
    "```\n",
    "import pandas as pd\n",
    "\n",
    "data = {\n",
    "    'Name': ['Alice', 'Bob', 'Charlie'],\n",
    "    'Age': [25, 30, '35'],\n",
    "    'Salary': [50000, 60000, 70000]\n",
    "}\n",
    "\n",
    "df = pd.DataFrame(data)\n",
    "\n",
    "df['Age'].mean()\n",
    "print(f\"The average age is {df['Age'].mean()}\")\n",
    "\n",
    "{\n",
    "\t\"name\": \"TypeError\",\n",
    "\t\"message\": \"unsupported operand type(s) for +: 'int' and 'str'\",\n",
    "\t\"stack\": \"---------------------------------------------------------------------------\n",
    "TypeError                                 Traceback (most recent call last)\n",
    "/tmp/ipykernel_134744/376740308.py in <module>\n",
    "      9 df = pd.DataFrame(data)\n",
    "     10 \n",
    "---> 11 df['Age'].mean()\n",
    "     12 print(f\\\"The average age is {df['Age'].mean()}\\\")\n",
    "\n",
    "~/.local/lib/python3.10/site-packages/pandas/core/series.py in mean(self, axis, skipna, numeric_only, **kwargs)\n",
    "   6547         **kwargs,\n",
    "   6548     ):\n",
    "-> 6549         return NDFrame.mean(self, axis, skipna, numeric_only, **kwargs)\n",
    "   6550 \n",
    "   6551     @doc(make_doc(\\\"median\\\", ndim=1))\n",
    "\n",
    "~/.local/lib/python3.10/site-packages/pandas/core/generic.py in mean(self, axis, skipna, numeric_only, **kwargs)\n",
    "  12418         **kwargs,\n",
    "  12419     ) -> Series | float:\n",
    "> 12420         return self._stat_function(\n",
    "  12421             \\\"mean\\\", nanops.nanmean, axis, skipna, numeric_only, **kwargs\n",
    "  12422         )\n",
    "\n",
    "~/.local/lib/python3.10/site-packages/pandas/core/generic.py in _stat_function(self, name, func, axis, skipna, numeric_only, **kwargs)\n",
    "  12375         validate_bool_kwarg(skipna, \\\"skipna\\\", none_allowed=False)\n",
    "  12376 \n",
    "> 12377         return self._reduce(\n",
    "  12378             func, name=name, axis=axis, skipna=skipna, numeric_only=numeric_only\n",
    "  12379         )\n",
    "\n",
    "~/.local/lib/python3.10/site-packages/pandas/core/series.py in _reduce(self, op, name, axis, skipna, numeric_only, filter_type, **kwds)\n",
    "   6455                     \\\"with non-numeric dtypes.\\\"\n",
    "   6456                 )\n",
    "-> 6457             return op(delegate, skipna=skipna, **kwds)\n",
    "   6458 \n",
    "   6459     @Appender(make_doc(\\\"any\\\", ndim=1))\n",
    "\n",
    "~/.local/lib/python3.10/site-packages/pandas/core/nanops.py in f(values, axis, skipna, **kwds)\n",
    "    145                     result = alt(values, axis=axis, skipna=skipna, **kwds)\n",
    "    146             else:\n",
    "--> 147                 result = alt(values, axis=axis, skipna=skipna, **kwds)\n",
    "    148 \n",
    "    149             return result\n",
    "\n",
    "~/.local/lib/python3.10/site-packages/pandas/core/nanops.py in new_func(values, axis, skipna, mask, **kwargs)\n",
    "    402             mask = isna(values)\n",
    "    403 \n",
    "--> 404         result = func(values, axis=axis, skipna=skipna, mask=mask, **kwargs)\n",
    "    405 \n",
    "    406         if datetimelike:\n",
    "\n",
    "~/.local/lib/python3.10/site-packages/pandas/core/nanops.py in nanmean(values, axis, skipna, mask)\n",
    "    717 \n",
    "    718     count = _get_counts(values.shape, mask, axis, dtype=dtype_count)\n",
    "--> 719     the_sum = values.sum(axis, dtype=dtype_sum)\n",
    "    720     the_sum = _ensure_numeric(the_sum)\n",
    "    721 \n",
    "\n",
    "~/.local/lib/python3.10/site-packages/numpy/core/_methods.py in _sum(a, axis, dtype, out, keepdims, initial, where)\n",
    "     47 def _sum(a, axis=None, dtype=None, out=None, keepdims=False,\n",
    "     48          initial=_NoValue, where=True):\n",
    "---> 49     return umr_sum(a, axis, dtype, out, keepdims, initial, where)\n",
    "     50 \n",
    "     51 def _prod(a, axis=None, dtype=None, out=None, keepdims=False,\n",
    "\n",
    "TypeError: unsupported operand type(s) for +: 'int' and 'str'\"\n",
    "}\n",
    "```\n",
    "\n",
    "Explain what is/are wrong with the code and fix it using `pandas` commands. Please, be specific."
   ]
  },
  {
   "cell_type": "markdown",
   "metadata": {},
   "source": [
    "The age column contains mixed data types. Need to cast as ints to perform calculations"
   ]
  },
  {
   "cell_type": "code",
   "execution_count": 8,
   "metadata": {},
   "outputs": [
    {
     "name": "stdout",
     "output_type": "stream",
     "text": [
      "The average age is 30.0\n"
     ]
    }
   ],
   "source": [
    "import pandas as pd\n",
    "\n",
    "data = {\n",
    "    'Name': ['Alice', 'Bob', 'Charlie'],\n",
    "    'Age': [25, 30, '35'],\n",
    "    'Salary': [50000, 60000, 70000]\n",
    "}\n",
    "\n",
    "df = pd.DataFrame(data)\n",
    "\n",
    "df['Age'] = df['Age'].astype(int)\n",
    "\n",
    "df['Age'].mean()\n",
    "print(f\"The average age is {df['Age'].mean()}\")"
   ]
  },
  {
   "cell_type": "markdown",
   "metadata": {},
   "source": [
    "# Exercise 4 (4 points)\n",
    "\n",
    "Which of the following practices is **NOT** recommended for improving code readability in analytics/data science?\n",
    "\n",
    "- (a) Using descriptive variable names.\n",
    "- (b) Keeping lines of code within a reasonable length (e.g., 60-80 characters).\n",
    "- (c) Adding comments to explain complex sections of the code\n",
    "- (d) Writing all code in one long function without separation. \n",
    "- (e) Adding docstrings to functions.\n",
    "- (f) None of the above."
   ]
  },
  {
   "cell_type": "markdown",
   "metadata": {},
   "source": [
    "D"
   ]
  },
  {
   "cell_type": "markdown",
   "metadata": {},
   "source": [
    "# Exercise 5 (4 points)\n",
    "\n",
    "Explain why docummenting code is important analytics/data science projects, especially when collaborating with others in big projects. Please, be specific."
   ]
  },
  {
   "cell_type": "markdown",
   "metadata": {},
   "source": [
    "It is important to keep good documentation when collaborating with others because it will help others understand the thought process behind the project and help others figure out what the code does and how to execute it as intended."
   ]
  },
  {
   "cell_type": "markdown",
   "metadata": {},
   "source": [
    "# Exercise 6 (4 points)\n",
    "\n",
    "Which of the following is **NOT** a primary benefit of refactoring code in analytics/data science programming?\n",
    "\n",
    "- (a) Improving code readability and maintainability.\n",
    "- (b) Enhancing code performance by optimizing algorithms.\n",
    "- (c) Adding new features to the code. \n",
    "- (d) Reducing the likelihood of errors in future modifications\n",
    "- (e) All of the above.\n",
    "- (f) None of the above.\n"
   ]
  },
  {
   "cell_type": "markdown",
   "metadata": {},
   "source": [
    "C"
   ]
  },
  {
   "cell_type": "markdown",
   "metadata": {},
   "source": [
    "# Exercise 7 (4 points)\n",
    "\n",
    "Scatter plots are among the most popular types of charts used for numerical data analysis. What is the main purpose of creating scatter plots? Please, be specific."
   ]
  },
  {
   "cell_type": "markdown",
   "metadata": {},
   "source": [
    "Scatterplots show the relationship/correlation between variables. "
   ]
  },
  {
   "cell_type": "markdown",
   "metadata": {},
   "source": [
    "# Exercise 8 (4 points)\n",
    "\n",
    "Which of the following is an essential step in data validation when testing your code in analytics/data science programming?\n",
    "\n",
    "- (a) Ignoring missing values to focus on valid data points.\n",
    "- (b) Ensuring data types and formats are consistent with expectations. \n",
    "- (c) Automatically accepting all data from the source without checks.\n",
    "- (d) Relying solely on visual inspection of datasets for accuracy.\n",
    "- (e) All of the above.\n",
    "- (f) None of the above.\n"
   ]
  },
  {
   "cell_type": "markdown",
   "metadata": {},
   "source": [
    "B"
   ]
  },
  {
   "cell_type": "markdown",
   "metadata": {},
   "source": [
    "# Exercise 9 \n",
    "\n",
    "Consider the below data dictionary.\n",
    "\n",
    "```\n",
    "data = {'x': [1, 1, 1, 1, 1, 5], \n",
    "        'y': [5.2, 6.2, 6.6, 7, 7.4, 10]}\n",
    "```\n",
    "\n",
    "### Exercise 9(a) (3 points)\n",
    "\n",
    "Using the appropriate commands, create a data-frame called `df` using the `data` dictionary."
   ]
  },
  {
   "cell_type": "code",
   "execution_count": 9,
   "metadata": {},
   "outputs": [
    {
     "data": {
      "text/html": [
       "<div>\n",
       "<style scoped>\n",
       "    .dataframe tbody tr th:only-of-type {\n",
       "        vertical-align: middle;\n",
       "    }\n",
       "\n",
       "    .dataframe tbody tr th {\n",
       "        vertical-align: top;\n",
       "    }\n",
       "\n",
       "    .dataframe thead th {\n",
       "        text-align: right;\n",
       "    }\n",
       "</style>\n",
       "<table border=\"1\" class=\"dataframe\">\n",
       "  <thead>\n",
       "    <tr style=\"text-align: right;\">\n",
       "      <th></th>\n",
       "      <th>x</th>\n",
       "      <th>y</th>\n",
       "    </tr>\n",
       "  </thead>\n",
       "  <tbody>\n",
       "    <tr>\n",
       "      <th>0</th>\n",
       "      <td>1</td>\n",
       "      <td>5.2</td>\n",
       "    </tr>\n",
       "    <tr>\n",
       "      <th>1</th>\n",
       "      <td>1</td>\n",
       "      <td>6.2</td>\n",
       "    </tr>\n",
       "    <tr>\n",
       "      <th>2</th>\n",
       "      <td>1</td>\n",
       "      <td>6.6</td>\n",
       "    </tr>\n",
       "    <tr>\n",
       "      <th>3</th>\n",
       "      <td>1</td>\n",
       "      <td>7.0</td>\n",
       "    </tr>\n",
       "    <tr>\n",
       "      <th>4</th>\n",
       "      <td>1</td>\n",
       "      <td>7.4</td>\n",
       "    </tr>\n",
       "    <tr>\n",
       "      <th>5</th>\n",
       "      <td>5</td>\n",
       "      <td>10.0</td>\n",
       "    </tr>\n",
       "  </tbody>\n",
       "</table>\n",
       "</div>"
      ],
      "text/plain": [
       "   x     y\n",
       "0  1   5.2\n",
       "1  1   6.2\n",
       "2  1   6.6\n",
       "3  1   7.0\n",
       "4  1   7.4\n",
       "5  5  10.0"
      ]
     },
     "execution_count": 9,
     "metadata": {},
     "output_type": "execute_result"
    }
   ],
   "source": [
    "data = {'x': [1, 1, 1, 1, 1, 5], \n",
    "        'y': [5.2, 6.2, 6.6, 7, 7.4, 10]}\n",
    "\n",
    "df = pd.DataFrame(data)\n",
    "df"
   ]
  },
  {
   "cell_type": "markdown",
   "metadata": {},
   "source": [
    "### Exercise 9(b) (3 points)\n",
    "\n",
    "Using the appropriate command, compute the correlation between `x` and `y`."
   ]
  },
  {
   "cell_type": "code",
   "execution_count": 10,
   "metadata": {},
   "outputs": [
    {
     "data": {
      "text/plain": [
       "0.8853280002440871"
      ]
     },
     "execution_count": 10,
     "metadata": {},
     "output_type": "execute_result"
    }
   ],
   "source": [
    "df['x'].corr(df['y'])"
   ]
  },
  {
   "cell_type": "markdown",
   "metadata": {},
   "source": [
    "### Exercise 9(c) (3 points)\n",
    "\n",
    "Standard thresholds for the correlation (r) are the following:\n",
    "\n",
    "- 0 < |r| < 0.3 -> weak correlation.\n",
    "- 0.3 < |r| < 0.7 -> moderate correlation.\n",
    "- 0.7 < |r| < 1 -> strong correlation.\n",
    "\n",
    "Notice that || represents absolute value. Based on the three rules of thumb mentioned above, what can we conclude about the correlation between `x` and `y`?"
   ]
  },
  {
   "cell_type": "markdown",
   "metadata": {},
   "source": [
    "the correlation between x and y is strong"
   ]
  },
  {
   "cell_type": "markdown",
   "metadata": {},
   "source": [
    "### Exercise 9(d) (5 points)\n",
    "\n",
    "Create a scatter plot to visualize the relationship between `x` and `y`. Describe the features of the plot. Does your conclusion from part 9(c) align with what you observe in the scatter plot? What do you believe contributes to the high correlation value?"
   ]
  },
  {
   "cell_type": "code",
   "execution_count": 11,
   "metadata": {},
   "outputs": [
    {
     "data": {
      "image/png": "[encoded data removed]",
      "text/plain": [
       "<Figure size 640x480 with 1 Axes>"
      ]
     },
     "metadata": {},
     "output_type": "display_data"
    }
   ],
   "source": [
    "import matplotlib.pyplot as plt\n",
    "\n",
    "plt.scatter(df['x'], df['y'])\n",
    "plt.xlabel('x')\n",
    "plt.ylabel('y')\n",
    "plt.title('Scatter Plot: Relationship between x and y')\n",
    "plt.show()"
   ]
  },
  {
   "cell_type": "markdown",
   "metadata": {},
   "source": [
    "Looking at the scatterplot it doesn't look like there is much correlation. the first 5 x values are 1 and their y values are all close together and increase slightly which would show a high corelation. "
   ]
  },
  {
   "cell_type": "markdown",
   "metadata": {},
   "source": [
    "# Exercise 10 (4 points)\n",
    "\n",
    "Which of the following is a key strategy for effective refactoring in data science programming?\n",
    "\n",
    "- (a) Removing all comments from the code to make it cleaner.\n",
    "- (b) Consolidating similar functions into a single, more generalized function. \n",
    "- (c) Increasing the size of functions to handle more tasks at once.\n",
    "- (d) Replacing all variable names with single letters to reduce code length.\n",
    "- (e) Removing all extra space between code lines to save memory space.\n",
    "- (f) All of the above.\n",
    "- (g) None of the above.\n"
   ]
  },
  {
   "cell_type": "markdown",
   "metadata": {},
   "source": [
    "B"
   ]
  },
  {
   "cell_type": "markdown",
   "metadata": {},
   "source": [
    "# Exercise 11\n",
    "\n",
    "Consider the `train.csv` data file, which is a synthetic dataset generated from a depression survey conducted in India. In this exercise, we will explore this data. Below is a brief description of each of the features included in the data file:\n",
    "\n",
    "- `Name`: The name of the survey participant.\n",
    "- `Gender`: The gender of the survey participant.\n",
    "- `Age`: The age of the survey participant.\n",
    "- `City`: The city where the survey participant resides.\n",
    "- `Working Professional`:  Indicates whether the survey participant is a working professional or a student.\n",
    "- `Profession`: The profession of the survey participant.\n",
    "- `Academic Pressure`: An integer from 1 to 5 representing the academic pressure experienced by the student.\n",
    "- `Work Pressure`: An integer from 1 to 5 representing the work pressure experienced by the professional participant.\n",
    "- `CGPA`: The participant's academic grade point average.\n",
    "- `Study Satisfaction`: An integer from 1 to 5 indicating the participant's satisfaction with their studies. \n",
    "- `Job Satisfaction`: An integer from 1 to 5 indicating the participant's job satisfaction.\n",
    "- `Sleep Duration`: The amount of sleep the survey participant gets.\n",
    "- `Dietary Habits`: A label describing the participant's dietary habits.\n",
    "- `Degree`: The academic degree of the survey participant.\n",
    "- `Have you ever had suicidal thoughts?`: Indicates whether the survey participant has experienced suicidal thoughts.\n",
    "- `Work/Study Hours`: The number of hours the participant spends working or studying.\n",
    "- `Financial Stress`: An integer from 1 to 5 representing the level of financial stress.\n",
    "- `Family History of Mental Illness`: Indicates whether there is a history of mental illness in the family.\n",
    "- `Depression`: Indicates whether the survey participant is experiencing depression.\n",
    "\n",
    "\n",
    "### Exercise 11(a) (3 points)\n",
    "\n",
    "Import the `pandas` libraries, read the `train.csv`, and create a data-frame called `df`. Report the shape of `df`."
   ]
  },
  {
   "cell_type": "code",
   "execution_count": 1,
   "metadata": {},
   "outputs": [
    {
     "data": {
      "text/html": [
       "<div>\n",
       "<style scoped>\n",
       "    .dataframe tbody tr th:only-of-type {\n",
       "        vertical-align: middle;\n",
       "    }\n",
       "\n",
       "    .dataframe tbody tr th {\n",
       "        vertical-align: top;\n",
       "    }\n",
       "\n",
       "    .dataframe thead th {\n",
       "        text-align: right;\n",
       "    }\n",
       "</style>\n",
       "<table border=\"1\" class=\"dataframe\">\n",
       "  <thead>\n",
       "    <tr style=\"text-align: right;\">\n",
       "      <th></th>\n",
       "      <th>id</th>\n",
       "      <th>Name</th>\n",
       "      <th>Gender</th>\n",
       "      <th>Age</th>\n",
       "      <th>City</th>\n",
       "      <th>Working Professional or Student</th>\n",
       "      <th>Profession</th>\n",
       "      <th>Academic Pressure</th>\n",
       "      <th>Work Pressure</th>\n",
       "      <th>CGPA</th>\n",
       "      <th>Study Satisfaction</th>\n",
       "      <th>Job Satisfaction</th>\n",
       "      <th>Sleep Duration</th>\n",
       "      <th>Dietary Habits</th>\n",
       "      <th>Degree</th>\n",
       "      <th>Have you ever had suicidal thoughts ?</th>\n",
       "      <th>Work/Study Hours</th>\n",
       "      <th>Financial Stress</th>\n",
       "      <th>Family History of Mental Illness</th>\n",
       "      <th>Depression</th>\n",
       "    </tr>\n",
       "  </thead>\n",
       "  <tbody>\n",
       "    <tr>\n",
       "      <th>0</th>\n",
       "      <td>0</td>\n",
       "      <td>Aaradhya</td>\n",
       "      <td>Female</td>\n",
       "      <td>49.0</td>\n",
       "      <td>Ludhiana</td>\n",
       "      <td>Working Professional</td>\n",
       "      <td>Chef</td>\n",
       "      <td>NaN</td>\n",
       "      <td>5.0</td>\n",
       "      <td>NaN</td>\n",
       "      <td>NaN</td>\n",
       "      <td>2.0</td>\n",
       "      <td>More than 8 hours</td>\n",
       "      <td>Healthy</td>\n",
       "      <td>BHM</td>\n",
       "      <td>No</td>\n",
       "      <td>1.0</td>\n",
       "      <td>2.0</td>\n",
       "      <td>No</td>\n",
       "      <td>0</td>\n",
       "    </tr>\n",
       "    <tr>\n",
       "      <th>1</th>\n",
       "      <td>1</td>\n",
       "      <td>Vivan</td>\n",
       "      <td>Male</td>\n",
       "      <td>26.0</td>\n",
       "      <td>Varanasi</td>\n",
       "      <td>Working Professional</td>\n",
       "      <td>Teacher</td>\n",
       "      <td>NaN</td>\n",
       "      <td>4.0</td>\n",
       "      <td>NaN</td>\n",
       "      <td>NaN</td>\n",
       "      <td>3.0</td>\n",
       "      <td>Less than 5 hours</td>\n",
       "      <td>Unhealthy</td>\n",
       "      <td>LLB</td>\n",
       "      <td>Yes</td>\n",
       "      <td>7.0</td>\n",
       "      <td>3.0</td>\n",
       "      <td>No</td>\n",
       "      <td>1</td>\n",
       "    </tr>\n",
       "    <tr>\n",
       "      <th>2</th>\n",
       "      <td>2</td>\n",
       "      <td>Yuvraj</td>\n",
       "      <td>Male</td>\n",
       "      <td>33.0</td>\n",
       "      <td>Visakhapatnam</td>\n",
       "      <td>Student</td>\n",
       "      <td>NaN</td>\n",
       "      <td>5.0</td>\n",
       "      <td>NaN</td>\n",
       "      <td>8.97</td>\n",
       "      <td>2.0</td>\n",
       "      <td>NaN</td>\n",
       "      <td>5-6 hours</td>\n",
       "      <td>Healthy</td>\n",
       "      <td>B.Pharm</td>\n",
       "      <td>Yes</td>\n",
       "      <td>3.0</td>\n",
       "      <td>1.0</td>\n",
       "      <td>No</td>\n",
       "      <td>1</td>\n",
       "    </tr>\n",
       "    <tr>\n",
       "      <th>3</th>\n",
       "      <td>3</td>\n",
       "      <td>Yuvraj</td>\n",
       "      <td>Male</td>\n",
       "      <td>22.0</td>\n",
       "      <td>Mumbai</td>\n",
       "      <td>Working Professional</td>\n",
       "      <td>Teacher</td>\n",
       "      <td>NaN</td>\n",
       "      <td>5.0</td>\n",
       "      <td>NaN</td>\n",
       "      <td>NaN</td>\n",
       "      <td>1.0</td>\n",
       "      <td>Less than 5 hours</td>\n",
       "      <td>Moderate</td>\n",
       "      <td>BBA</td>\n",
       "      <td>Yes</td>\n",
       "      <td>10.0</td>\n",
       "      <td>1.0</td>\n",
       "      <td>Yes</td>\n",
       "      <td>1</td>\n",
       "    </tr>\n",
       "    <tr>\n",
       "      <th>4</th>\n",
       "      <td>4</td>\n",
       "      <td>Rhea</td>\n",
       "      <td>Female</td>\n",
       "      <td>30.0</td>\n",
       "      <td>Kanpur</td>\n",
       "      <td>Working Professional</td>\n",
       "      <td>Business Analyst</td>\n",
       "      <td>NaN</td>\n",
       "      <td>1.0</td>\n",
       "      <td>NaN</td>\n",
       "      <td>NaN</td>\n",
       "      <td>1.0</td>\n",
       "      <td>5-6 hours</td>\n",
       "      <td>Unhealthy</td>\n",
       "      <td>BBA</td>\n",
       "      <td>Yes</td>\n",
       "      <td>9.0</td>\n",
       "      <td>4.0</td>\n",
       "      <td>Yes</td>\n",
       "      <td>0</td>\n",
       "    </tr>\n",
       "  </tbody>\n",
       "</table>\n",
       "</div>"
      ],
      "text/plain": [
       "   id      Name  Gender   Age           City Working Professional or Student  \\\n",
       "0   0  Aaradhya  Female  49.0       Ludhiana            Working Professional   \n",
       "1   1     Vivan    Male  26.0       Varanasi            Working Professional   \n",
       "2   2    Yuvraj    Male  33.0  Visakhapatnam                         Student   \n",
       "3   3    Yuvraj    Male  22.0         Mumbai            Working Professional   \n",
       "4   4      Rhea  Female  30.0         Kanpur            Working Professional   \n",
       "\n",
       "         Profession  Academic Pressure  Work Pressure  CGPA  \\\n",
       "0              Chef                NaN            5.0   NaN   \n",
       "1           Teacher                NaN            4.0   NaN   \n",
       "2               NaN                5.0            NaN  8.97   \n",
       "3           Teacher                NaN            5.0   NaN   \n",
       "4  Business Analyst                NaN            1.0   NaN   \n",
       "\n",
       "   Study Satisfaction  Job Satisfaction     Sleep Duration Dietary Habits  \\\n",
       "0                 NaN               2.0  More than 8 hours        Healthy   \n",
       "1                 NaN               3.0  Less than 5 hours      Unhealthy   \n",
       "2                 2.0               NaN          5-6 hours        Healthy   \n",
       "3                 NaN               1.0  Less than 5 hours       Moderate   \n",
       "4                 NaN               1.0          5-6 hours      Unhealthy   \n",
       "\n",
       "    Degree Have you ever had suicidal thoughts ?  Work/Study Hours  \\\n",
       "0      BHM                                    No               1.0   \n",
       "1      LLB                                   Yes               7.0   \n",
       "2  B.Pharm                                   Yes               3.0   \n",
       "3      BBA                                   Yes              10.0   \n",
       "4      BBA                                   Yes               9.0   \n",
       "\n",
       "   Financial Stress Family History of Mental Illness  Depression  \n",
       "0               2.0                               No           0  \n",
       "1               3.0                               No           1  \n",
       "2               1.0                               No           1  \n",
       "3               1.0                              Yes           1  \n",
       "4               4.0                              Yes           0  "
      ]
     },
     "execution_count": 1,
     "metadata": {},
     "output_type": "execute_result"
    }
   ],
   "source": [
    "import pandas as pd\n",
    "\n",
    "df = pd.read_csv('train.csv')\n",
    "df.head()"
   ]
  },
  {
   "cell_type": "markdown",
   "metadata": {},
   "source": [
    "### Exercise 11(b) (2 points)\n",
    "\n",
    "Using the appropriate commands, report the frequency table of `Depression`."
   ]
  },
  {
   "cell_type": "code",
   "execution_count": 2,
   "metadata": {},
   "outputs": [
    {
     "data": {
      "text/plain": [
       "Depression\n",
       "0    81.828714\n",
       "1    18.171286\n",
       "Name: proportion, dtype: float64"
      ]
     },
     "execution_count": 2,
     "metadata": {},
     "output_type": "execute_result"
    }
   ],
   "source": [
    "df['Depression'].value_counts(normalize=True)*100"
   ]
  },
  {
   "cell_type": "markdown",
   "metadata": {},
   "source": [
    "### Exercise 11(c) (3 points)\n",
    "\n",
    "Are males more depressed than females? Use the appropriate commands to answer the question."
   ]
  },
  {
   "cell_type": "code",
   "execution_count": 6,
   "metadata": {},
   "outputs": [
    {
     "data": {
      "text/plain": [
       "Gender  Depression\n",
       "Female  0             82.176292\n",
       "        1             17.823708\n",
       "Male    0             81.544976\n",
       "        1             18.455024\n",
       "Name: proportion, dtype: float64"
      ]
     },
     "execution_count": 6,
     "metadata": {},
     "output_type": "execute_result"
    }
   ],
   "source": [
    "df['Depression'].groupby(df['Gender']).value_counts(normalize=True)*100"
   ]
  },
  {
   "cell_type": "markdown",
   "metadata": {},
   "source": [
    "From the frequency table, yes, a higher percentage of males are classified as depressed than females. "
   ]
  },
  {
   "cell_type": "markdown",
   "metadata": {},
   "source": [
    "### Exercise 11(d) (3 points)\n",
    "\n",
    "Are working professionals more depressed than students? Use the appropriate commands to answer the question."
   ]
  },
  {
   "cell_type": "code",
   "execution_count": 7,
   "metadata": {},
   "outputs": [
    {
     "data": {
      "text/plain": [
       "Working Professional or Student  Depression\n",
       "Student                          1             58.549873\n",
       "                                 0             41.450127\n",
       "Working Professional             0             91.816417\n",
       "                                 1              8.183583\n",
       "Name: proportion, dtype: float64"
      ]
     },
     "execution_count": 7,
     "metadata": {},
     "output_type": "execute_result"
    }
   ],
   "source": [
    "df['Depression'].groupby(df['Working Professional or Student']).value_counts(normalize=True)*100"
   ]
  },
  {
   "cell_type": "markdown",
   "metadata": {},
   "source": [
    "From the frequency table, no, a higher percentage of students are classified as depressed than Working Professionals. "
   ]
  },
  {
   "cell_type": "markdown",
   "metadata": {},
   "source": [
    "### Exercise 11(e) (5 points)\n",
    "\n",
    "Is there a relationship between `Age` and `Depression`? Use the appropriate commands to create a visualization to answer the question."
   ]
  },
  {
   "cell_type": "code",
   "execution_count": 13,
   "metadata": {},
   "outputs": [
    {
     "data": {
      "image/png": "[encoded data removed]",
      "text/plain": [
       "<Figure size 1000x500 with 1 Axes>"
      ]
     },
     "metadata": {},
     "output_type": "display_data"
    }
   ],
   "source": [
    "import matplotlib.pyplot as plt\n",
    "import seaborn as sns\n",
    "\n",
    "fig, ax = plt.subplots(figsize=(10,5))\n",
    "\n",
    "sns.histplot(data=df, x='Age', hue='Depression')\n",
    "plt.title('Age & Depression')\n",
    "plt.show()"
   ]
  },
  {
   "cell_type": "markdown",
   "metadata": {},
   "source": [
    "From the above chart we can see the depression class is right skewed while the non-depressed class is left skewed. This shows that younger people are more depressed than older people and as age increases the depression class decreases in this data. "
   ]
  },
  {
   "cell_type": "markdown",
   "metadata": {},
   "source": [
    "### Exercise 11(f) (3 points)\n",
    "\n",
    "Does you answer from part 11(e) agree with your answer from part 11(d)?"
   ]
  },
  {
   "cell_type": "markdown",
   "metadata": {},
   "source": [
    "Yes, 11(d) showed more student with depression. Students are primarily young adults in their 20s while working professionals are older, which is the relationship we see in 11(e)"
   ]
  },
  {
   "cell_type": "markdown",
   "metadata": {},
   "source": [
    "### Exercise 11(g) (3 points)\n",
    "\n",
    "What percentage of individuals with a family history of mental illness report depression? Use the appropriate commands to answer the question."
   ]
  },
  {
   "cell_type": "code",
   "execution_count": 12,
   "metadata": {},
   "outputs": [
    {
     "data": {
      "text/plain": [
       "Family History of Mental Illness  Depression\n",
       "No                                0             82.461347\n",
       "                                  1             17.538653\n",
       "Yes                               0             81.188699\n",
       "                                  1             18.811301\n",
       "Name: proportion, dtype: float64"
      ]
     },
     "execution_count": 12,
     "metadata": {},
     "output_type": "execute_result"
    }
   ],
   "source": [
    "df['Depression'].groupby(df['Family History of Mental Illness']).value_counts(normalize=True)*100"
   ]
  },
  {
   "cell_type": "markdown",
   "metadata": {},
   "source": [
    "18.81%"
   ]
  },
  {
   "cell_type": "markdown",
   "metadata": {},
   "source": [
    "### Exercise 11(h) (4 points)\n",
    "\n",
    "What is the relationship between sleep duration and depression? Use the appropriate commands to answer the question."
   ]
  },
  {
   "cell_type": "code",
   "execution_count": 37,
   "metadata": {},
   "outputs": [
    {
     "data": {
      "image/png": "[encoded data removed]",
      "text/plain": [
       "<Figure size 800x600 with 1 Axes>"
      ]
     },
     "metadata": {},
     "output_type": "display_data"
    }
   ],
   "source": [
    "contingency_table = pd.crosstab(df['Sleep Duration'], df['Depression'], normalize='index')\n",
    "\n",
    "# Plot stacked bar plot\n",
    "contingency_table.plot(kind='barh', stacked=True, figsize=(8, 6))\n",
    "plt.title('Sleep Duration & Depression')\n",
    "plt.show()"
   ]
  },
  {
   "cell_type": "markdown",
   "metadata": {},
   "source": [
    "From the above chart it doesn't look like there is much of a relationship. The labels are in ranges and it looks like some are weekly ranges and some are daily. But it appears that sleep > 8 hours, and sleep > 4 hours are the most depressed"
   ]
  },
  {
   "cell_type": "markdown",
   "metadata": {},
   "source": [
    "### Exercise 11(i) (3 points)\n",
    "\n",
    "Based on your analysis from part 11(h), is there anything that needs to be addressed to draw better insights? Please, be specific."
   ]
  },
  {
   "cell_type": "markdown",
   "metadata": {},
   "source": [
    "A consistant range or value. having set ranges for daily sleep hours would help the analysis. Instead of having 1-2, 1-3,and 1-6 hours that all have overlap. having set ranges to choose from would be benificial to draw a better conclusion. "
   ]
  },
  {
   "cell_type": "markdown",
   "metadata": {},
   "source": [
    "### Exercise 11(j) (4 points)\n",
    "\n",
    "When analyzing the `Working Professional or Student` and `Profession` categories, you will notice that some students have a profession listed instead of a missing value. How should you approach this in your analysis?"
   ]
  },
  {
   "cell_type": "markdown",
   "metadata": {},
   "source": [
    "It could be possible that the student also has a job, that is another thing to look at since the student that is also working would possiblily be busier than students without a job. Would students with jobs have as high rate of depression as students without. "
   ]
  },
  {
   "cell_type": "markdown",
   "metadata": {},
   "source": [
    "### Exercise 11(k) (5 points)\n",
    "\n",
    "Is there a relationship between financial streess and depression? Use the appropriate commands to create a visualization to answer the question."
   ]
  },
  {
   "cell_type": "code",
   "execution_count": 41,
   "metadata": {},
   "outputs": [
    {
     "data": {
      "image/png": "[encoded data removed]",
      "text/plain": [
       "<Figure size 1000x500 with 1 Axes>"
      ]
     },
     "metadata": {},
     "output_type": "display_data"
    }
   ],
   "source": [
    "fig, ax = plt.subplots(figsize=(10,5))\n",
    "\n",
    "sns.histplot(data=df, x='Financial Stress', hue='Depression')\n",
    "plt.title('Finacial Stress & Depression')\n",
    "plt.show()"
   ]
  },
  {
   "cell_type": "markdown",
   "metadata": {},
   "source": [
    "Yes, from the chart above the higher the financial stress the more participants report depression"
   ]
  },
  {
   "cell_type": "markdown",
   "metadata": {},
   "source": [
    "### Exercise 1(l) (4 points)\n",
    "\n",
    "What is the relationship between dietary habits and depression? Use the appropriate commands to answer the question."
   ]
  },
  {
   "cell_type": "code",
   "execution_count": 42,
   "metadata": {},
   "outputs": [
    {
     "data": {
      "text/plain": [
       "Dietary Habits     Depression\n",
       "1.0                1             100.000000\n",
       "2                  0             100.000000\n",
       "3                  1             100.000000\n",
       "BSc                0             100.000000\n",
       "Class 12           0             100.000000\n",
       "Electrician        0             100.000000\n",
       "Gender             0             100.000000\n",
       "Healthy            0              88.196509\n",
       "                   1              11.803491\n",
       "Hormonal           0             100.000000\n",
       "Indoor             1             100.000000\n",
       "Less Healthy       0             100.000000\n",
       "Less than Healthy  0             100.000000\n",
       "M.Tech             1             100.000000\n",
       "Male               1             100.000000\n",
       "Mihir              0             100.000000\n",
       "Moderate           0              83.436274\n",
       "                   1              16.563726\n",
       "More Healthy       0             100.000000\n",
       "No                 0             100.000000\n",
       "No Healthy         1             100.000000\n",
       "Pratham            0             100.000000\n",
       "Unhealthy          0              73.945962\n",
       "                   1              26.054038\n",
       "Vegas              0             100.000000\n",
       "Yes                0              50.000000\n",
       "                   1              50.000000\n",
       "Name: proportion, dtype: float64"
      ]
     },
     "execution_count": 42,
     "metadata": {},
     "output_type": "execute_result"
    }
   ],
   "source": [
    "df['Depression'].groupby(df['Dietary Habits']).value_counts(normalize=True)*100"
   ]
  },
  {
   "cell_type": "markdown",
   "metadata": {},
   "source": [
    "Again the responces are varried by a lot of different values but just looking at healthy vs unhealthy. unhealthy habbits have more depression."
   ]
  },
  {
   "cell_type": "markdown",
   "metadata": {},
   "source": [
    "### Exercise 11(m) (3 points)\n",
    "\n",
    "Based on your analysis from part 11(l), is there anything that needs to be addressed to draw better insights? Please, be specific."
   ]
  },
  {
   "cell_type": "markdown",
   "metadata": {},
   "source": [
    "Same as the sleep question, having designated choices for the participants (healthy, unhealthy, and moderate) would allow me to make a better conclusion. "
   ]
  }
 ],
 "metadata": {
  "kernelspec": {
   "display_name": "Python 3",
   "language": "python",
   "name": "python3"
  },
  "language_info": {
   "codemirror_mode": {
    "name": "ipython",
    "version": 3
   },
   "file_extension": ".py",
   "mimetype": "text/x-python",
   "name": "python",
   "nbconvert_exporter": "python",
   "pygments_lexer": "ipython3",
   "version": "3.10.2"
  }
 },
 "nbformat": 4,
 "nbformat_minor": 2
}
