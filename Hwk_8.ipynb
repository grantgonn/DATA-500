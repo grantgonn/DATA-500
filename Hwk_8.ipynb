{
 "cells": [
  {
   "cell_type": "markdown",
   "metadata": {},
   "source": [
    "# Exercise 1 (10 points)\n",
    "\n",
    "In this exercise, we will practice refactoring concepts in analytics/data science tasks. You are given a dataset about employees, including information such as their department, salary, and years of experience. Your task is to analyze the dataset and then refactor the code for readability and efficiency. \n",
    "\n",
    "### Exercise 1(a) (3 points)\n",
    "\n",
    "Load `pandas` and create a data-frame called `df` using the below data dictionary:\n",
    "\n",
    "```\n",
    "data = {\n",
    "    'EmployeeID': [101, 102, 103, 104, 105],\n",
    "    'Department': ['Engineering', 'HR', 'Engineering', 'Sales', 'HR'],\n",
    "    'Salary': [70000, 50000, 75000, 45000, 60000],\n",
    "    'YearsExperience': [5, 3, 7, 2, 4]\n",
    "}\n",
    "```"
   ]
  },
  {
   "cell_type": "code",
   "execution_count": 1,
   "metadata": {},
   "outputs": [
    {
     "data": {
      "text/html": [
       "<div>\n",
       "<style scoped>\n",
       "    .dataframe tbody tr th:only-of-type {\n",
       "        vertical-align: middle;\n",
       "    }\n",
       "\n",
       "    .dataframe tbody tr th {\n",
       "        vertical-align: top;\n",
       "    }\n",
       "\n",
       "    .dataframe thead th {\n",
       "        text-align: right;\n",
       "    }\n",
       "</style>\n",
       "<table border=\"1\" class=\"dataframe\">\n",
       "  <thead>\n",
       "    <tr style=\"text-align: right;\">\n",
       "      <th></th>\n",
       "      <th>EmployeeID</th>\n",
       "      <th>Department</th>\n",
       "      <th>Salary</th>\n",
       "      <th>YearsExperience</th>\n",
       "    </tr>\n",
       "  </thead>\n",
       "  <tbody>\n",
       "    <tr>\n",
       "      <th>0</th>\n",
       "      <td>101</td>\n",
       "      <td>Engineering</td>\n",
       "      <td>70000</td>\n",
       "      <td>5</td>\n",
       "    </tr>\n",
       "    <tr>\n",
       "      <th>1</th>\n",
       "      <td>102</td>\n",
       "      <td>HR</td>\n",
       "      <td>50000</td>\n",
       "      <td>3</td>\n",
       "    </tr>\n",
       "    <tr>\n",
       "      <th>2</th>\n",
       "      <td>103</td>\n",
       "      <td>Engineering</td>\n",
       "      <td>75000</td>\n",
       "      <td>7</td>\n",
       "    </tr>\n",
       "    <tr>\n",
       "      <th>3</th>\n",
       "      <td>104</td>\n",
       "      <td>Sales</td>\n",
       "      <td>45000</td>\n",
       "      <td>2</td>\n",
       "    </tr>\n",
       "    <tr>\n",
       "      <th>4</th>\n",
       "      <td>105</td>\n",
       "      <td>HR</td>\n",
       "      <td>60000</td>\n",
       "      <td>4</td>\n",
       "    </tr>\n",
       "  </tbody>\n",
       "</table>\n",
       "</div>"
      ],
      "text/plain": [
       "   EmployeeID   Department  Salary  YearsExperience\n",
       "0         101  Engineering   70000                5\n",
       "1         102           HR   50000                3\n",
       "2         103  Engineering   75000                7\n",
       "3         104        Sales   45000                2\n",
       "4         105           HR   60000                4"
      ]
     },
     "execution_count": 1,
     "metadata": {},
     "output_type": "execute_result"
    }
   ],
   "source": [
    "import pandas as pd \n",
    "\n",
    "data = {\n",
    "    'EmployeeID': [101, 102, 103, 104, 105],\n",
    "    'Department': ['Engineering', 'HR', 'Engineering', 'Sales', 'HR'],\n",
    "    'Salary': [70000, 50000, 75000, 45000, 60000],\n",
    "    'YearsExperience': [5, 3, 7, 2, 4]\n",
    "}\n",
    "\n",
    "df = pd.DataFrame(data)\n",
    "df"
   ]
  },
  {
   "cell_type": "markdown",
   "metadata": {},
   "source": [
    "### Exercise 1(b) (4 points)\n",
    "\n",
    "The below code snippet has three functions the perform the following:\n",
    "\n",
    "- `calculate_average_salary` computes the average salary by department.\n",
    "- `calculate_median_experience` computes the median years of experience for each department.\n",
    "- `high_earners` identifies employees who earn above a certain salary threshold. \n",
    "\n",
    "\n",
    "```\n",
    "# Calculate average salary by department\n",
    "def calculate_average_salary(dataframe):\n",
    "    avg_salary = dataframe.groupby('Department')['Salary'].mean()\n",
    "    return avg_salary\n",
    "\n",
    "# Calculate median years of experience by department\n",
    "def calculate_median_experience(dataframe):\n",
    "    median_exp = dataframe.groupby('Department')['YearsExperience'].median()\n",
    "    return median_exp\n",
    "\n",
    "# Identify employees with salaries above a certain threshold\n",
    "def high_earners(dataframe, threshold):\n",
    "    return dataframe[dataframe['Salary'] > threshold]\n",
    "\n",
    "```\n",
    "\n",
    "Make sure the above function are working as expected by applying them to the `df` data-frame."
   ]
  },
  {
   "cell_type": "code",
   "execution_count": 2,
   "metadata": {},
   "outputs": [],
   "source": [
    "# Calculate average salary by department\n",
    "def calculate_average_salary(dataframe):\n",
    "    avg_salary = dataframe.groupby('Department')['Salary'].mean()\n",
    "    return avg_salary\n",
    "\n",
    "# Calculate median years of experience by department\n",
    "def calculate_median_experience(dataframe):\n",
    "    median_exp = dataframe.groupby('Department')['YearsExperience'].median()\n",
    "    return median_exp\n",
    "\n",
    "# Identify employees with salaries above a certain threshold\n",
    "def high_earners(dataframe, threshold):\n",
    "    return dataframe[dataframe['Salary'] > threshold]\n"
   ]
  },
  {
   "cell_type": "code",
   "execution_count": 3,
   "metadata": {},
   "outputs": [
    {
     "name": "stdout",
     "output_type": "stream",
     "text": [
      "---- Average salary ----\n",
      " Department\n",
      "Engineering    72500.0\n",
      "HR             55000.0\n",
      "Sales          45000.0\n",
      "Name: Salary, dtype: float64\n",
      "---- Median salary ----\n",
      " Department\n",
      "Engineering    6.0\n",
      "HR             3.5\n",
      "Sales          2.0\n",
      "Name: YearsExperience, dtype: float64\n",
      "---- Earners over 60,000 ----\n",
      "    EmployeeID   Department  Salary  YearsExperience\n",
      "0         101  Engineering   70000                5\n",
      "2         103  Engineering   75000                7\n"
     ]
    }
   ],
   "source": [
    "print('---- Average salary ----\\n',calculate_average_salary(df))\n",
    "print('---- Median salary ----\\n', calculate_median_experience(df))\n",
    "print('---- Earners over 60,000 ----\\n', high_earners(df,60000))\n"
   ]
  },
  {
   "cell_type": "markdown",
   "metadata": {},
   "source": [
    "### Exercise 1(c) (6 points)\n",
    "\n",
    "To improve code modularity, separate reusable components. Specifically:\n",
    "\n",
    "- Add a helper function called `calculate_group_stat` to calculate group statistics (e.g., mean or median).\n",
    "- Refactor the `calculate_average_salary` and `calculate_median_experience` functions to use the `calculate_group_stat` function.\n",
    "\n",
    "Then, apply the refactored functions to the `df` data-frame"
   ]
  },
  {
   "cell_type": "code",
   "execution_count": 4,
   "metadata": {},
   "outputs": [],
   "source": [
    "def calculate_group_stat(dataframe, stat_type):\n",
    "    if stat_type == 'mean':\n",
    "        return calculate_average_salary(dataframe)\n",
    "    elif stat_type == 'median':\n",
    "        return calculate_median_experience(dataframe)\n",
    "    else:\n",
    "        raise ValueError(\"stat_type must be either 'mean' or 'median'\")\n",
    "\n",
    "# calculate average salary by department\n",
    "def calculate_average_salary(dataframe):\n",
    "    avg_salary = dataframe.groupby('Department')['Salary'].mean()\n",
    "    return avg_salary\n",
    "\n",
    "# calculate median years of experience by department\n",
    "def calculate_median_experience(dataframe):\n",
    "    median_exp = dataframe.groupby('Department')['YearsExperience'].median()\n",
    "    return median_exp\n"
   ]
  },
  {
   "cell_type": "code",
   "execution_count": 5,
   "metadata": {},
   "outputs": [
    {
     "name": "stdout",
     "output_type": "stream",
     "text": [
      "---- Average salary ----\n",
      " Department\n",
      "Engineering    72500.0\n",
      "HR             55000.0\n",
      "Sales          45000.0\n",
      "Name: Salary, dtype: float64\n",
      "---- Median salary ----\n",
      " Department\n",
      "Engineering    6.0\n",
      "HR             3.5\n",
      "Sales          2.0\n",
      "Name: YearsExperience, dtype: float64\n"
     ]
    }
   ],
   "source": [
    "print('---- Average salary ----\\n',calculate_group_stat(df, 'mean'))\n",
    "print('---- Median salary ----\\n', calculate_group_stat(df, 'median'))"
   ]
  },
  {
   "cell_type": "markdown",
   "metadata": {},
   "source": [
    "### Exercise 1(d) (8 points)\n",
    "\n",
    "To improve the readability of the functions, a description for each of the function. For example:\n",
    "\n",
    "```\n",
    "def high_earners(dataframe, threshold):\n",
    "    \"\"\"\n",
    "    Identify employees with salaries above a certain threshold.\n",
    "\n",
    "    Args:\n",
    "        dataframe (pd.DataFrame): The DataFrame containing the data.\n",
    "        threshold (int): The salary threshold to filter by.\n",
    "\n",
    "    Returns:\n",
    "        pd.DataFrame: A DataFrame of employees with salaries above the threshold.\n",
    "    \"\"\"\n",
    "    return dataframe[dataframe['Salary'] > threshold]\n",
    "```\n",
    "\n",
    "Notice the function description."
   ]
  },
  {
   "cell_type": "code",
   "execution_count": 6,
   "metadata": {},
   "outputs": [],
   "source": [
    "def calculate_group_stat(dataframe, stat_type):\n",
    "    \"\"\"\n",
    "    Calculate the mean or median of group Salary.\n",
    "\n",
    "    Args:\n",
    "        dataframe (pd.DataFrame): The DataFrame containing the data.\n",
    "        stat_type (string: The stat you would like to calculate\n",
    "\n",
    "    Returns:\n",
    "        A list of mean or median salaries grouped by department.\n",
    "    \"\"\"\n",
    "    if stat_type == 'mean':\n",
    "        return calculate_average_salary(dataframe)\n",
    "    elif stat_type == 'median':\n",
    "        return calculate_median_experience(dataframe)\n",
    "    else:\n",
    "        raise ValueError(\"stat_type must be either 'mean' or 'median'\")\n",
    "\n",
    "# calculate average salary by department\n",
    "def calculate_average_salary(dataframe):\n",
    "    \"\"\"\n",
    "    calls helper funtion to calculate the mean.\n",
    "\n",
    "    Args:\n",
    "        dataframe (pd.DataFrame): The DataFrame containing the data.\n",
    "\n",
    "    Returns:\n",
    "        A list of mean salaries grouped by department.\n",
    "    \"\"\"\n",
    "    avg_salary = dataframe.groupby('Department')['Salary'].mean()\n",
    "    return avg_salary\n",
    "\n",
    "# calculate median years of experience by department\n",
    "def calculate_median_experience(dataframe):\n",
    "    \"\"\"\n",
    "    calls helper funtion to calculate the median.\n",
    "\n",
    "    Args:\n",
    "        dataframe (pd.DataFrame): The DataFrame containing the data.\n",
    "\n",
    "    Returns:\n",
    "        A list of median salaries grouped by department.\n",
    "    \"\"\"\n",
    "    median_exp = dataframe.groupby('Department')['YearsExperience'].median()\n",
    "    return median_exp\n",
    "\n",
    "def high_earners(dataframe, threshold):\n",
    "    \"\"\"\n",
    "    Identify employees with salaries above a certain threshold.\n",
    "\n",
    "    Args:\n",
    "        dataframe (pd.DataFrame): The DataFrame containing the data.\n",
    "        threshold (int): The salary threshold to filter by.\n",
    "\n",
    "    Returns:\n",
    "        pd.DataFrame: A DataFrame of employees with salaries above the threshold.\n",
    "    \"\"\"\n",
    "    return dataframe[dataframe['Salary'] > threshold]"
   ]
  },
  {
   "cell_type": "markdown",
   "metadata": {},
   "source": [
    "### Exercise 1(e) (6 points)\n",
    "\n",
    "Test the refactored code with test cases to ensure accuracy."
   ]
  },
  {
   "cell_type": "code",
   "execution_count": 7,
   "metadata": {},
   "outputs": [
    {
     "name": "stdout",
     "output_type": "stream",
     "text": [
      "---- Average salary ----\n",
      " Department\n",
      "Engineering    72500.0\n",
      "HR             55000.0\n",
      "Sales          45000.0\n",
      "Name: Salary, dtype: float64\n",
      "---- Median salary ----\n",
      " Department\n",
      "Engineering    6.0\n",
      "HR             3.5\n",
      "Sales          2.0\n",
      "Name: YearsExperience, dtype: float64\n",
      "---- Earners over 60,000 ----\n",
      "    EmployeeID   Department  Salary  YearsExperience\n",
      "0         101  Engineering   70000                5\n",
      "2         103  Engineering   75000                7\n"
     ]
    }
   ],
   "source": [
    "print('---- Average salary ----\\n',calculate_group_stat(df, 'mean'))\n",
    "print('---- Median salary ----\\n', calculate_group_stat(df, 'median'))\n",
    "print('---- Earners over 60,000 ----\\n', high_earners(df,60000))"
   ]
  },
  {
   "cell_type": "markdown",
   "metadata": {},
   "source": [
    "# Exercise 2\n",
    "\n",
    "In this exercise, we will practice `polars` operations. Consider the `Electronic_sales_Sep2023-Sep2024.csv` data file. This dataset contains sales transaction records for an electronics company over a one-year period, spanning from September 2023 to September 2024. It includes detailed information about customer demographics, product types, and purchase behaviors. This is a brief description of each columns in the data file.\n",
    "\n",
    "- `Customer ID`: Unique identifier for each customer.\n",
    "- `Age`: Age of the customer (numeric)\n",
    "- `Gender`: Gender of the customer (Male or Female)\n",
    "- `Loyalty Member`: (Yes/No) (Values change by time, so pay attention to who cancelled and who signed up)\n",
    "- `Product Type`: Type of electronic product sold (e.g., Smartphone, Laptop, Tablet)\n",
    "- `SKU`: a unique code for each product.\n",
    "- `Rating`: Customer rating of the product (1-5 stars) (Should have no Null Ratings)\n",
    "- `Order Status`: Status of the order (Completed, Cancelled)\n",
    "- `Payment Method`: Method used for payment (e.g., Cash, Credit Card, Paypal)\n",
    "- `Total Price`: Total price of the transaction (numeric)\n",
    "- `Unit Price`: Price per unit of the product (numeric)\n",
    "- `Quantity`: Number of units purchased (numeric)\n",
    "- `Purchase Date`: Date of the purchase (format: YYYY-MM-DD)\n",
    "- `Shipping Type`: Type of shipping chosen (e.g., Standard, Overnight, Express)\n",
    "- `Add-ons Purchased`: List of any additional items purchased (e.g., Accessories, Extended Warranty)\n",
    "- `Add-on Total`: Total price of add-ons purchased (numeric)\n",
    "\n",
    "\n",
    "### Exercise 2(a) (2 points)\n",
    "\n",
    "Load `polars`, `matplotlib.pyplot` and `seaborn`."
   ]
  },
  {
   "cell_type": "code",
   "execution_count": 8,
   "metadata": {},
   "outputs": [],
   "source": [
    "import polars as pl\n",
    "import matplotlib.pyplot as plt\n",
    "import seaborn as sns"
   ]
  },
  {
   "cell_type": "markdown",
   "metadata": {},
   "source": [
    "### Exercise 2(b) (2 points)\n",
    "\n",
    "Read the `Electronic_sales_Sep2023-Sep2024.csv` data file and create a data frame called `df`. Report the shape of `df`."
   ]
  },
  {
   "cell_type": "code",
   "execution_count": 9,
   "metadata": {},
   "outputs": [
    {
     "data": {
      "text/plain": [
       "(20000, 16)"
      ]
     },
     "execution_count": 9,
     "metadata": {},
     "output_type": "execute_result"
    }
   ],
   "source": [
    "df = pl.read_csv('Electronic_sales_Sep2023-Sep2024.csv')\n",
    "df.shape"
   ]
  },
  {
   "cell_type": "markdown",
   "metadata": {},
   "source": [
    "### Exercise 2(c) (3 points)\n",
    "\n",
    "Report the number of unique `Customer ID`."
   ]
  },
  {
   "cell_type": "code",
   "execution_count": 10,
   "metadata": {},
   "outputs": [
    {
     "data": {
      "text/plain": [
       "12136"
      ]
     },
     "execution_count": 10,
     "metadata": {},
     "output_type": "execute_result"
    }
   ],
   "source": [
    "df['Customer ID'].unique().count()"
   ]
  },
  {
   "cell_type": "markdown",
   "metadata": {},
   "source": [
    "### Exercise 2(d) (3 points)\n",
    "\n",
    "Create a column called `Total_Spending`, which is the sum of `Total Price` and `Add-on Total`."
   ]
  },
  {
   "cell_type": "code",
   "execution_count": 11,
   "metadata": {},
   "outputs": [
    {
     "data": {
      "text/html": [
       "<div><style>\n",
       ".dataframe > thead > tr,\n",
       ".dataframe > tbody > tr {\n",
       "  text-align: right;\n",
       "  white-space: pre-wrap;\n",
       "}\n",
       "</style>\n",
       "<small>shape: (5, 17)</small><table border=\"1\" class=\"dataframe\"><thead><tr><th>Customer ID</th><th>Age</th><th>Gender</th><th>Loyalty Member</th><th>Product Type</th><th>SKU</th><th>Rating</th><th>Order Status</th><th>Payment Method</th><th>Total Price</th><th>Unit Price</th><th>Quantity</th><th>Purchase Date</th><th>Shipping Type</th><th>Add-ons Purchased</th><th>Add-on Total</th><th>Total_Spending</th></tr><tr><td>i64</td><td>i64</td><td>str</td><td>str</td><td>str</td><td>str</td><td>i64</td><td>str</td><td>str</td><td>f64</td><td>f64</td><td>i64</td><td>str</td><td>str</td><td>str</td><td>f64</td><td>f64</td></tr></thead><tbody><tr><td>1000</td><td>53</td><td>&quot;Male&quot;</td><td>&quot;No&quot;</td><td>&quot;Smartphone&quot;</td><td>&quot;SKU1004&quot;</td><td>2</td><td>&quot;Cancelled&quot;</td><td>&quot;Credit Card&quot;</td><td>5538.33</td><td>791.19</td><td>7</td><td>&quot;2024-03-20&quot;</td><td>&quot;Standard&quot;</td><td>&quot;Accessory,Accessory,Accessory&quot;</td><td>40.21</td><td>5578.54</td></tr><tr><td>1000</td><td>53</td><td>&quot;Male&quot;</td><td>&quot;No&quot;</td><td>&quot;Tablet&quot;</td><td>&quot;SKU1002&quot;</td><td>3</td><td>&quot;Completed&quot;</td><td>&quot;Paypal&quot;</td><td>741.09</td><td>247.03</td><td>3</td><td>&quot;2024-04-20&quot;</td><td>&quot;Overnight&quot;</td><td>&quot;Impulse Item&quot;</td><td>26.09</td><td>767.18</td></tr><tr><td>1002</td><td>41</td><td>&quot;Male&quot;</td><td>&quot;No&quot;</td><td>&quot;Laptop&quot;</td><td>&quot;SKU1005&quot;</td><td>3</td><td>&quot;Completed&quot;</td><td>&quot;Credit Card&quot;</td><td>1855.84</td><td>463.96</td><td>4</td><td>&quot;2023-10-17&quot;</td><td>&quot;Express&quot;</td><td>null</td><td>0.0</td><td>1855.84</td></tr><tr><td>1002</td><td>41</td><td>&quot;Male&quot;</td><td>&quot;Yes&quot;</td><td>&quot;Smartphone&quot;</td><td>&quot;SKU1004&quot;</td><td>2</td><td>&quot;Completed&quot;</td><td>&quot;Cash&quot;</td><td>3164.76</td><td>791.19</td><td>4</td><td>&quot;2024-08-09&quot;</td><td>&quot;Overnight&quot;</td><td>&quot;Impulse Item,Impulse Item&quot;</td><td>60.16</td><td>3224.92</td></tr><tr><td>1003</td><td>75</td><td>&quot;Male&quot;</td><td>&quot;Yes&quot;</td><td>&quot;Smartphone&quot;</td><td>&quot;SKU1001&quot;</td><td>5</td><td>&quot;Completed&quot;</td><td>&quot;Cash&quot;</td><td>41.5</td><td>20.75</td><td>2</td><td>&quot;2024-05-21&quot;</td><td>&quot;Express&quot;</td><td>&quot;Accessory&quot;</td><td>35.56</td><td>77.06</td></tr></tbody></table></div>"
      ],
      "text/plain": [
       "shape: (5, 17)\n",
       "┌────────────────┬─────┬────────┬─────────┬───┬───────────┬───────────────┬────────┬───────────────┐\n",
       "│ Customer ID    ┆ Age ┆ Gender ┆ Loyalty ┆ … ┆ Shipping  ┆ Add-ons       ┆ Add-on ┆ Total_Spendin │\n",
       "│ ---            ┆ --- ┆ ---    ┆ Member  ┆   ┆ Type      ┆ Purchased     ┆ Total  ┆ g             │\n",
       "│ i64            ┆ i64 ┆ str    ┆ ---     ┆   ┆ ---       ┆ ---           ┆ ---    ┆ ---           │\n",
       "│                ┆     ┆        ┆ str     ┆   ┆ str       ┆ str           ┆ f64    ┆ f64           │\n",
       "╞════════════════╪═════╪════════╪═════════╪═══╪═══════════╪═══════════════╪════════╪═══════════════╡\n",
       "│ 1000           ┆ 53  ┆ Male   ┆ No      ┆ … ┆ Standard  ┆ Accessory,Acc ┆ 40.21  ┆ 5578.54       │\n",
       "│                ┆     ┆        ┆         ┆   ┆           ┆ essory,Access ┆        ┆               │\n",
       "│                ┆     ┆        ┆         ┆   ┆           ┆ ory           ┆        ┆               │\n",
       "│ 1000           ┆ 53  ┆ Male   ┆ No      ┆ … ┆ Overnight ┆ Impulse Item  ┆ 26.09  ┆ 767.18        │\n",
       "│ 1002           ┆ 41  ┆ Male   ┆ No      ┆ … ┆ Express   ┆ null          ┆ 0.0    ┆ 1855.84       │\n",
       "│ 1002           ┆ 41  ┆ Male   ┆ Yes     ┆ … ┆ Overnight ┆ Impulse       ┆ 60.16  ┆ 3224.92       │\n",
       "│                ┆     ┆        ┆         ┆   ┆           ┆ Item,Impulse  ┆        ┆               │\n",
       "│                ┆     ┆        ┆         ┆   ┆           ┆ Item          ┆        ┆               │\n",
       "│ 1003           ┆ 75  ┆ Male   ┆ Yes     ┆ … ┆ Express   ┆ Accessory     ┆ 35.56  ┆ 77.06         │\n",
       "└────────────────┴─────┴────────┴─────────┴───┴───────────┴───────────────┴────────┴───────────────┘"
      ]
     },
     "execution_count": 11,
     "metadata": {},
     "output_type": "execute_result"
    }
   ],
   "source": [
    "df = df.with_columns((df['Total Price'] + df['Add-on Total']).alias('Total_Spending'))\n",
    "df.head()"
   ]
  },
  {
   "cell_type": "markdown",
   "metadata": {},
   "source": [
    "### Exercise 2(e) (3 points)\n",
    "\n",
    "Compute the average `Total_Spending` by `Customer ID`. Report the `Customer ID`s with the smallest and largest average `Total_Spending`."
   ]
  },
  {
   "cell_type": "code",
   "execution_count": 12,
   "metadata": {},
   "outputs": [
    {
     "name": "stdout",
     "output_type": "stream",
     "text": [
      "shape: (1, 2)\n",
      "┌─────────────┬────────────────┐\n",
      "│ Customer ID ┆ Total_Spending │\n",
      "│ ---         ┆ ---            │\n",
      "│ i64         ┆ f64            │\n",
      "╞═════════════╪════════════════╡\n",
      "│ 1000        ┆ 5578.54        │\n",
      "└─────────────┴────────────────┘\n",
      "shape: (1, 2)\n",
      "┌─────────────┬────────────────┐\n",
      "│ Customer ID ┆ Total_Spending │\n",
      "│ ---         ┆ ---            │\n",
      "│ i64         ┆ f64            │\n",
      "╞═════════════╪════════════════╡\n",
      "│ 19998       ┆ 674.32         │\n",
      "└─────────────┴────────────────┘\n"
     ]
    }
   ],
   "source": [
    "df.group_by('Customer ID').agg(pl.col('Total_Spending').mean().alias('Average_Spending'))\n",
    "print(df[['Customer ID', 'Total_Spending']].head(1))\n",
    "print(df[['Customer ID', 'Total_Spending']].tail(1))"
   ]
  },
  {
   "cell_type": "markdown",
   "metadata": {},
   "source": [
    "### Exercise 2(f) (5 points)\n",
    "\n",
    "Report the most popular `Product Type` among `Male` and `Female`."
   ]
  },
  {
   "cell_type": "code",
   "execution_count": 13,
   "metadata": {},
   "outputs": [
    {
     "name": "stderr",
     "output_type": "stream",
     "text": [
      "C:\\Users\\gmgma\\AppData\\Local\\Temp\\ipykernel_11164\\3777834776.py:1: DeprecationWarning: `pl.count()` is deprecated. Please use `pl.len()` instead.\n",
      "  product_popularity = df.group_by(['Gender', 'Product Type']).agg(pl.count().alias('Product_Count')).sort(by=['Gender', 'Product_Count'])\n"
     ]
    },
    {
     "data": {
      "text/html": [
       "<div><style>\n",
       ".dataframe > thead > tr,\n",
       ".dataframe > tbody > tr {\n",
       "  text-align: right;\n",
       "  white-space: pre-wrap;\n",
       "}\n",
       "</style>\n",
       "<small>shape: (3, 3)</small><table border=\"1\" class=\"dataframe\"><thead><tr><th>Gender</th><th>Product Type</th><th>Product_Count</th></tr><tr><td>str</td><td>str</td><td>u32</td></tr></thead><tbody><tr><td>&quot;Female&quot;</td><td>&quot;Smartphone&quot;</td><td>2980</td></tr><tr><td>&quot;Male&quot;</td><td>&quot;Smartphone&quot;</td><td>2998</td></tr><tr><td>&quot;#N/A&quot;</td><td>&quot;Laptop&quot;</td><td>1</td></tr></tbody></table></div>"
      ],
      "text/plain": [
       "shape: (3, 3)\n",
       "┌────────┬──────────────┬───────────────┐\n",
       "│ Gender ┆ Product Type ┆ Product_Count │\n",
       "│ ---    ┆ ---          ┆ ---           │\n",
       "│ str    ┆ str          ┆ u32           │\n",
       "╞════════╪══════════════╪═══════════════╡\n",
       "│ Female ┆ Smartphone   ┆ 2980          │\n",
       "│ Male   ┆ Smartphone   ┆ 2998          │\n",
       "│ #N/A   ┆ Laptop       ┆ 1             │\n",
       "└────────┴──────────────┴───────────────┘"
      ]
     },
     "execution_count": 13,
     "metadata": {},
     "output_type": "execute_result"
    }
   ],
   "source": [
    "product_popularity = df.group_by(['Gender', 'Product Type']).agg(pl.count().alias('Product_Count')).sort(by=['Gender', 'Product_Count'])\n",
    "product_popularity.group_by('Gender').tail(1)"
   ]
  },
  {
   "cell_type": "markdown",
   "metadata": {},
   "source": [
    "### Exercise 2(g) (4 points)\n",
    "\n",
    "Do loyal customers spend more? "
   ]
  },
  {
   "cell_type": "code",
   "execution_count": 14,
   "metadata": {},
   "outputs": [
    {
     "name": "stdout",
     "output_type": "stream",
     "text": [
      "Requirement already satisfied: pyarrow in c:\\users\\gmgma\\appdata\\local\\programs\\python\\python310\\lib\\site-packages (18.0.0)\n",
      "Note: you may need to restart the kernel to use updated packages.\n"
     ]
    },
    {
     "name": "stderr",
     "output_type": "stream",
     "text": [
      "WARNING: You are using pip version 21.2.4; however, version 24.3.1 is available.\n",
      "You should consider upgrading via the 'c:\\Users\\gmgma\\AppData\\Local\\Programs\\Python\\Python310\\python.exe -m pip install --upgrade pip' command.\n"
     ]
    }
   ],
   "source": [
    "pip install pyarrow"
   ]
  },
  {
   "cell_type": "code",
   "execution_count": 16,
   "metadata": {},
   "outputs": [
    {
     "data": {
      "image/png": "[encoded data removed]",
      "text/plain": [
       "<Figure size 1200x800 with 1 Axes>"
      ]
     },
     "metadata": {},
     "output_type": "display_data"
    }
   ],
   "source": [
    "fig, ax = plt.subplots(figsize = (12,8))\n",
    "\n",
    "sns.boxplot(x='Loyalty Member', y='Total_Spending', data=df.to_pandas())\n",
    "plt.title('Total spending by loyalty member')\n",
    "plt.xlabel('loyalty member')\n",
    "plt.ylabel('total spending')\n",
    "plt.show()"
   ]
  },
  {
   "cell_type": "markdown",
   "metadata": {},
   "source": [
    "There does not appear to be any relationship between loyalty memeber and spending"
   ]
  },
  {
   "cell_type": "markdown",
   "metadata": {},
   "source": [
    "### Exercise 2(h) (5 points)\n",
    "\n",
    "Does age play a role on the total amount of the transaction?"
   ]
  },
  {
   "cell_type": "code",
   "execution_count": 20,
   "metadata": {},
   "outputs": [
    {
     "data": {
      "image/png": "[encoded data removed]",
      "text/plain": [
       "<Figure size 1200x800 with 1 Axes>"
      ]
     },
     "metadata": {},
     "output_type": "display_data"
    }
   ],
   "source": [
    "fig, ax = plt.subplots(figsize = (12,8))\n",
    "\n",
    "sns.boxplot(x='Age', y='Total_Spending', data=df.to_pandas())\n",
    "plt.title('Total spending by loyalty member')\n",
    "plt.xlabel('loyalty member')\n",
    "plt.ylabel('total spending')\n",
    "plt.show()"
   ]
  },
  {
   "cell_type": "markdown",
   "metadata": {},
   "source": [
    "There does not appear to be any relationship between age and spending"
   ]
  }
 ],
 "metadata": {
  "kernelspec": {
   "display_name": "Python 3",
   "language": "python",
   "name": "python3"
  },
  "language_info": {
   "codemirror_mode": {
    "name": "ipython",
    "version": 3
   },
   "file_extension": ".py",
   "mimetype": "text/x-python",
   "name": "python",
   "nbconvert_exporter": "python",
   "pygments_lexer": "ipython3",
   "version": "3.10.2"
  }
 },
 "nbformat": 4,
 "nbformat_minor": 2
}
