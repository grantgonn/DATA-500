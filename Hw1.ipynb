{
 "cells": [
  {
   "cell_type": "markdown",
   "metadata": {},
   "source": [
    "# Exercise 1\n",
    "\n",
    "In this exercise, we keep practicing `pandas` skills. We will use the `en.openfoodfacts.org.products.tsv` file to answer the different parts in this exercise.\n",
    "\n",
    "### Exercise 1(a) (2 points)\n",
    "\n",
    "Import `pandas` and `numpy` libraries."
   ]
  },
  {
   "cell_type": "code",
   "execution_count": 1,
   "metadata": {
    "collapsed": true
   },
   "outputs": [],
   "source": [
    "import pandas as pd"
   ]
  },
  {
   "cell_type": "markdown",
   "metadata": {},
   "source": [
    "### Exercise 1(b) (3 points)\n",
    "\n",
    "Using `read_csv` from `pandas` read the `.tsv` file and assign it a data-frame called `food`. Notice that the `.tsv` is a tab-separated file."
   ]
  },
  {
   "cell_type": "code",
   "execution_count": 4,
   "metadata": {
    "collapsed": false
   },
   "outputs": [
    {
     "name": "stderr",
     "output_type": "stream",
     "text": [
      "C:\\Users\\gmgma\\AppData\\Local\\Temp\\ipykernel_17188\\2500711972.py:1: DtypeWarning: Columns (0,3,5,19,20,24,25,26,27,28,36,37,38,39,48) have mixed types. Specify dtype option on import or set low_memory=False.\n",
      "  food = pd.read_csv('en.openfoodfacts.org.products.tsv', delimiter='\\t')\n"
     ]
    }
   ],
   "source": [
    "food = pd.read_csv('en.openfoodfacts.org.products.tsv', delimiter='\\t')"
   ]
  },
  {
   "cell_type": "markdown",
   "metadata": {},
   "source": [
    "### Exercise 1(c) (2 points)\n",
    "\n",
    "Print the first 8 observation of the `food` data-frame."
   ]
  },
  {
   "cell_type": "code",
   "execution_count": 5,
   "metadata": {
    "collapsed": false
   },
   "outputs": [
    {
     "data": {
      "text/html": [
       "<div>\n",
       "<style scoped>\n",
       "    .dataframe tbody tr th:only-of-type {\n",
       "        vertical-align: middle;\n",
       "    }\n",
       "\n",
       "    .dataframe tbody tr th {\n",
       "        vertical-align: top;\n",
       "    }\n",
       "\n",
       "    .dataframe thead th {\n",
       "        text-align: right;\n",
       "    }\n",
       "</style>\n",
       "<table border=\"1\" class=\"dataframe\">\n",
       "  <thead>\n",
       "    <tr style=\"text-align: right;\">\n",
       "      <th></th>\n",
       "      <th>code</th>\n",
       "      <th>url</th>\n",
       "      <th>creator</th>\n",
       "      <th>created_t</th>\n",
       "      <th>created_datetime</th>\n",
       "      <th>last_modified_t</th>\n",
       "      <th>last_modified_datetime</th>\n",
       "      <th>product_name</th>\n",
       "      <th>generic_name</th>\n",
       "      <th>quantity</th>\n",
       "      <th>...</th>\n",
       "      <th>fruits-vegetables-nuts_100g</th>\n",
       "      <th>fruits-vegetables-nuts-estimate_100g</th>\n",
       "      <th>collagen-meat-protein-ratio_100g</th>\n",
       "      <th>cocoa_100g</th>\n",
       "      <th>chlorophyl_100g</th>\n",
       "      <th>carbon-footprint_100g</th>\n",
       "      <th>nutrition-score-fr_100g</th>\n",
       "      <th>nutrition-score-uk_100g</th>\n",
       "      <th>glycemic-index_100g</th>\n",
       "      <th>water-hardness_100g</th>\n",
       "    </tr>\n",
       "  </thead>\n",
       "  <tbody>\n",
       "    <tr>\n",
       "      <th>0</th>\n",
       "      <td>3087</td>\n",
       "      <td>http://world-en.openfoodfacts.org/product/0000...</td>\n",
       "      <td>openfoodfacts-contributors</td>\n",
       "      <td>1474103866</td>\n",
       "      <td>2016-09-17T09:17:46Z</td>\n",
       "      <td>1474103893</td>\n",
       "      <td>2016-09-17T09:18:13Z</td>\n",
       "      <td>Farine de blé noir</td>\n",
       "      <td>NaN</td>\n",
       "      <td>1kg</td>\n",
       "      <td>...</td>\n",
       "      <td>NaN</td>\n",
       "      <td>NaN</td>\n",
       "      <td>NaN</td>\n",
       "      <td>NaN</td>\n",
       "      <td>NaN</td>\n",
       "      <td>NaN</td>\n",
       "      <td>NaN</td>\n",
       "      <td>NaN</td>\n",
       "      <td>NaN</td>\n",
       "      <td>NaN</td>\n",
       "    </tr>\n",
       "    <tr>\n",
       "      <th>1</th>\n",
       "      <td>4530</td>\n",
       "      <td>http://world-en.openfoodfacts.org/product/0000...</td>\n",
       "      <td>usda-ndb-import</td>\n",
       "      <td>1489069957</td>\n",
       "      <td>2017-03-09T14:32:37Z</td>\n",
       "      <td>1489069957</td>\n",
       "      <td>2017-03-09T14:32:37Z</td>\n",
       "      <td>Banana Chips Sweetened (Whole)</td>\n",
       "      <td>NaN</td>\n",
       "      <td>NaN</td>\n",
       "      <td>...</td>\n",
       "      <td>NaN</td>\n",
       "      <td>NaN</td>\n",
       "      <td>NaN</td>\n",
       "      <td>NaN</td>\n",
       "      <td>NaN</td>\n",
       "      <td>NaN</td>\n",
       "      <td>14.0</td>\n",
       "      <td>14.0</td>\n",
       "      <td>NaN</td>\n",
       "      <td>NaN</td>\n",
       "    </tr>\n",
       "    <tr>\n",
       "      <th>2</th>\n",
       "      <td>4559</td>\n",
       "      <td>http://world-en.openfoodfacts.org/product/0000...</td>\n",
       "      <td>usda-ndb-import</td>\n",
       "      <td>1489069957</td>\n",
       "      <td>2017-03-09T14:32:37Z</td>\n",
       "      <td>1489069957</td>\n",
       "      <td>2017-03-09T14:32:37Z</td>\n",
       "      <td>Peanuts</td>\n",
       "      <td>NaN</td>\n",
       "      <td>NaN</td>\n",
       "      <td>...</td>\n",
       "      <td>NaN</td>\n",
       "      <td>NaN</td>\n",
       "      <td>NaN</td>\n",
       "      <td>NaN</td>\n",
       "      <td>NaN</td>\n",
       "      <td>NaN</td>\n",
       "      <td>0.0</td>\n",
       "      <td>0.0</td>\n",
       "      <td>NaN</td>\n",
       "      <td>NaN</td>\n",
       "    </tr>\n",
       "    <tr>\n",
       "      <th>3</th>\n",
       "      <td>16087</td>\n",
       "      <td>http://world-en.openfoodfacts.org/product/0000...</td>\n",
       "      <td>usda-ndb-import</td>\n",
       "      <td>1489055731</td>\n",
       "      <td>2017-03-09T10:35:31Z</td>\n",
       "      <td>1489055731</td>\n",
       "      <td>2017-03-09T10:35:31Z</td>\n",
       "      <td>Organic Salted Nut Mix</td>\n",
       "      <td>NaN</td>\n",
       "      <td>NaN</td>\n",
       "      <td>...</td>\n",
       "      <td>NaN</td>\n",
       "      <td>NaN</td>\n",
       "      <td>NaN</td>\n",
       "      <td>NaN</td>\n",
       "      <td>NaN</td>\n",
       "      <td>NaN</td>\n",
       "      <td>12.0</td>\n",
       "      <td>12.0</td>\n",
       "      <td>NaN</td>\n",
       "      <td>NaN</td>\n",
       "    </tr>\n",
       "    <tr>\n",
       "      <th>4</th>\n",
       "      <td>16094</td>\n",
       "      <td>http://world-en.openfoodfacts.org/product/0000...</td>\n",
       "      <td>usda-ndb-import</td>\n",
       "      <td>1489055653</td>\n",
       "      <td>2017-03-09T10:34:13Z</td>\n",
       "      <td>1489055653</td>\n",
       "      <td>2017-03-09T10:34:13Z</td>\n",
       "      <td>Organic Polenta</td>\n",
       "      <td>NaN</td>\n",
       "      <td>NaN</td>\n",
       "      <td>...</td>\n",
       "      <td>NaN</td>\n",
       "      <td>NaN</td>\n",
       "      <td>NaN</td>\n",
       "      <td>NaN</td>\n",
       "      <td>NaN</td>\n",
       "      <td>NaN</td>\n",
       "      <td>NaN</td>\n",
       "      <td>NaN</td>\n",
       "      <td>NaN</td>\n",
       "      <td>NaN</td>\n",
       "    </tr>\n",
       "    <tr>\n",
       "      <th>5</th>\n",
       "      <td>16100</td>\n",
       "      <td>http://world-en.openfoodfacts.org/product/0000...</td>\n",
       "      <td>usda-ndb-import</td>\n",
       "      <td>1489055651</td>\n",
       "      <td>2017-03-09T10:34:11Z</td>\n",
       "      <td>1489055651</td>\n",
       "      <td>2017-03-09T10:34:11Z</td>\n",
       "      <td>Breadshop Honey Gone Nuts Granola</td>\n",
       "      <td>NaN</td>\n",
       "      <td>NaN</td>\n",
       "      <td>...</td>\n",
       "      <td>NaN</td>\n",
       "      <td>NaN</td>\n",
       "      <td>NaN</td>\n",
       "      <td>NaN</td>\n",
       "      <td>NaN</td>\n",
       "      <td>NaN</td>\n",
       "      <td>NaN</td>\n",
       "      <td>NaN</td>\n",
       "      <td>NaN</td>\n",
       "      <td>NaN</td>\n",
       "    </tr>\n",
       "    <tr>\n",
       "      <th>6</th>\n",
       "      <td>16117</td>\n",
       "      <td>http://world-en.openfoodfacts.org/product/0000...</td>\n",
       "      <td>usda-ndb-import</td>\n",
       "      <td>1489055730</td>\n",
       "      <td>2017-03-09T10:35:30Z</td>\n",
       "      <td>1489055730</td>\n",
       "      <td>2017-03-09T10:35:30Z</td>\n",
       "      <td>Organic Long Grain White Rice</td>\n",
       "      <td>NaN</td>\n",
       "      <td>NaN</td>\n",
       "      <td>...</td>\n",
       "      <td>NaN</td>\n",
       "      <td>NaN</td>\n",
       "      <td>NaN</td>\n",
       "      <td>NaN</td>\n",
       "      <td>NaN</td>\n",
       "      <td>NaN</td>\n",
       "      <td>NaN</td>\n",
       "      <td>NaN</td>\n",
       "      <td>NaN</td>\n",
       "      <td>NaN</td>\n",
       "    </tr>\n",
       "    <tr>\n",
       "      <th>7</th>\n",
       "      <td>16124</td>\n",
       "      <td>http://world-en.openfoodfacts.org/product/0000...</td>\n",
       "      <td>usda-ndb-import</td>\n",
       "      <td>1489055711</td>\n",
       "      <td>2017-03-09T10:35:11Z</td>\n",
       "      <td>1489055712</td>\n",
       "      <td>2017-03-09T10:35:12Z</td>\n",
       "      <td>Organic Muesli</td>\n",
       "      <td>NaN</td>\n",
       "      <td>NaN</td>\n",
       "      <td>...</td>\n",
       "      <td>NaN</td>\n",
       "      <td>NaN</td>\n",
       "      <td>NaN</td>\n",
       "      <td>NaN</td>\n",
       "      <td>NaN</td>\n",
       "      <td>NaN</td>\n",
       "      <td>7.0</td>\n",
       "      <td>7.0</td>\n",
       "      <td>NaN</td>\n",
       "      <td>NaN</td>\n",
       "    </tr>\n",
       "  </tbody>\n",
       "</table>\n",
       "<p>8 rows × 163 columns</p>\n",
       "</div>"
      ],
      "text/plain": [
       "    code                                                url  \\\n",
       "0   3087  http://world-en.openfoodfacts.org/product/0000...   \n",
       "1   4530  http://world-en.openfoodfacts.org/product/0000...   \n",
       "2   4559  http://world-en.openfoodfacts.org/product/0000...   \n",
       "3  16087  http://world-en.openfoodfacts.org/product/0000...   \n",
       "4  16094  http://world-en.openfoodfacts.org/product/0000...   \n",
       "5  16100  http://world-en.openfoodfacts.org/product/0000...   \n",
       "6  16117  http://world-en.openfoodfacts.org/product/0000...   \n",
       "7  16124  http://world-en.openfoodfacts.org/product/0000...   \n",
       "\n",
       "                      creator   created_t      created_datetime  \\\n",
       "0  openfoodfacts-contributors  1474103866  2016-09-17T09:17:46Z   \n",
       "1             usda-ndb-import  1489069957  2017-03-09T14:32:37Z   \n",
       "2             usda-ndb-import  1489069957  2017-03-09T14:32:37Z   \n",
       "3             usda-ndb-import  1489055731  2017-03-09T10:35:31Z   \n",
       "4             usda-ndb-import  1489055653  2017-03-09T10:34:13Z   \n",
       "5             usda-ndb-import  1489055651  2017-03-09T10:34:11Z   \n",
       "6             usda-ndb-import  1489055730  2017-03-09T10:35:30Z   \n",
       "7             usda-ndb-import  1489055711  2017-03-09T10:35:11Z   \n",
       "\n",
       "  last_modified_t last_modified_datetime                       product_name  \\\n",
       "0      1474103893   2016-09-17T09:18:13Z                 Farine de blé noir   \n",
       "1      1489069957   2017-03-09T14:32:37Z     Banana Chips Sweetened (Whole)   \n",
       "2      1489069957   2017-03-09T14:32:37Z                            Peanuts   \n",
       "3      1489055731   2017-03-09T10:35:31Z             Organic Salted Nut Mix   \n",
       "4      1489055653   2017-03-09T10:34:13Z                    Organic Polenta   \n",
       "5      1489055651   2017-03-09T10:34:11Z  Breadshop Honey Gone Nuts Granola   \n",
       "6      1489055730   2017-03-09T10:35:30Z      Organic Long Grain White Rice   \n",
       "7      1489055712   2017-03-09T10:35:12Z                     Organic Muesli   \n",
       "\n",
       "  generic_name quantity  ... fruits-vegetables-nuts_100g  \\\n",
       "0          NaN      1kg  ...                         NaN   \n",
       "1          NaN      NaN  ...                         NaN   \n",
       "2          NaN      NaN  ...                         NaN   \n",
       "3          NaN      NaN  ...                         NaN   \n",
       "4          NaN      NaN  ...                         NaN   \n",
       "5          NaN      NaN  ...                         NaN   \n",
       "6          NaN      NaN  ...                         NaN   \n",
       "7          NaN      NaN  ...                         NaN   \n",
       "\n",
       "  fruits-vegetables-nuts-estimate_100g collagen-meat-protein-ratio_100g  \\\n",
       "0                                  NaN                              NaN   \n",
       "1                                  NaN                              NaN   \n",
       "2                                  NaN                              NaN   \n",
       "3                                  NaN                              NaN   \n",
       "4                                  NaN                              NaN   \n",
       "5                                  NaN                              NaN   \n",
       "6                                  NaN                              NaN   \n",
       "7                                  NaN                              NaN   \n",
       "\n",
       "  cocoa_100g chlorophyl_100g carbon-footprint_100g nutrition-score-fr_100g  \\\n",
       "0        NaN             NaN                   NaN                     NaN   \n",
       "1        NaN             NaN                   NaN                    14.0   \n",
       "2        NaN             NaN                   NaN                     0.0   \n",
       "3        NaN             NaN                   NaN                    12.0   \n",
       "4        NaN             NaN                   NaN                     NaN   \n",
       "5        NaN             NaN                   NaN                     NaN   \n",
       "6        NaN             NaN                   NaN                     NaN   \n",
       "7        NaN             NaN                   NaN                     7.0   \n",
       "\n",
       "  nutrition-score-uk_100g glycemic-index_100g water-hardness_100g  \n",
       "0                     NaN                 NaN                 NaN  \n",
       "1                    14.0                 NaN                 NaN  \n",
       "2                     0.0                 NaN                 NaN  \n",
       "3                    12.0                 NaN                 NaN  \n",
       "4                     NaN                 NaN                 NaN  \n",
       "5                     NaN                 NaN                 NaN  \n",
       "6                     NaN                 NaN                 NaN  \n",
       "7                     7.0                 NaN                 NaN  \n",
       "\n",
       "[8 rows x 163 columns]"
      ]
     },
     "execution_count": 5,
     "metadata": {},
     "output_type": "execute_result"
    }
   ],
   "source": [
    "food.head(8)"
   ]
  },
  {
   "cell_type": "markdown",
   "metadata": {},
   "source": [
    "### Exercise 1(d) (2 points)\n",
    "\n",
    "What is the number of observations in the `food` data-frame?"
   ]
  },
  {
   "cell_type": "code",
   "execution_count": 7,
   "metadata": {
    "collapsed": false
   },
   "outputs": [
    {
     "data": {
      "text/plain": [
       "(356027, 163)"
      ]
     },
     "execution_count": 7,
     "metadata": {},
     "output_type": "execute_result"
    }
   ],
   "source": [
    "food.shape"
   ]
  },
  {
   "cell_type": "markdown",
   "metadata": {},
   "source": [
    "### Exercise 1(e) (2 points)\n",
    "\n",
    "Report the name of all the columns of the `food` data-frame."
   ]
  },
  {
   "cell_type": "code",
   "execution_count": 10,
   "metadata": {
    "collapsed": false
   },
   "outputs": [
    {
     "data": {
      "text/plain": [
       "Index(['code', 'url', 'creator', 'created_t', 'created_datetime',\n",
       "       'last_modified_t', 'last_modified_datetime', 'product_name',\n",
       "       'generic_name', 'quantity',\n",
       "       ...\n",
       "       'fruits-vegetables-nuts_100g', 'fruits-vegetables-nuts-estimate_100g',\n",
       "       'collagen-meat-protein-ratio_100g', 'cocoa_100g', 'chlorophyl_100g',\n",
       "       'carbon-footprint_100g', 'nutrition-score-fr_100g',\n",
       "       'nutrition-score-uk_100g', 'glycemic-index_100g',\n",
       "       'water-hardness_100g'],\n",
       "      dtype='object', length=163)"
      ]
     },
     "execution_count": 10,
     "metadata": {},
     "output_type": "execute_result"
    }
   ],
   "source": [
    "food.columns"
   ]
  },
  {
   "cell_type": "markdown",
   "metadata": {},
   "source": [
    "### Exercise 1(f) (2 points)\n",
    "\n",
    "What is the name of 105th column?"
   ]
  },
  {
   "cell_type": "code",
   "execution_count": 24,
   "metadata": {
    "collapsed": false
   },
   "outputs": [
    {
     "data": {
      "text/plain": [
       "'-glucose_100g'"
      ]
     },
     "execution_count": 24,
     "metadata": {},
     "output_type": "execute_result"
    }
   ],
   "source": [
    "food.columns[104]"
   ]
  },
  {
   "cell_type": "markdown",
   "metadata": {},
   "source": [
    "### Exercise 1(g) (2 points)\n",
    "\n",
    "What is the type of the observations of the 105th column?"
   ]
  },
  {
   "cell_type": "code",
   "execution_count": 25,
   "metadata": {
    "collapsed": false
   },
   "outputs": [
    {
     "name": "stderr",
     "output_type": "stream",
     "text": [
      "C:\\Users\\gmgma\\AppData\\Local\\Temp\\ipykernel_17188\\2263273533.py:1: FutureWarning: Series.__getitem__ treating keys as positions is deprecated. In a future version, integer keys will always be treated as labels (consistent with DataFrame behavior). To access a value by position, use `ser.iloc[pos]`\n",
      "  food.dtypes[104]\n"
     ]
    },
    {
     "data": {
      "text/plain": [
       "dtype('float64')"
      ]
     },
     "execution_count": 25,
     "metadata": {},
     "output_type": "execute_result"
    }
   ],
   "source": [
    "food.dtypes[104]"
   ]
  },
  {
   "cell_type": "markdown",
   "metadata": {},
   "source": [
    "### Exercise 1(h) (2 points)\n",
    "\n",
    "What is the `product_name` of the 21th observation?"
   ]
  },
  {
   "cell_type": "code",
   "execution_count": 35,
   "metadata": {
    "collapsed": false
   },
   "outputs": [
    {
     "data": {
      "text/plain": [
       "'Energy Power Mix'"
      ]
     },
     "execution_count": 35,
     "metadata": {},
     "output_type": "execute_result"
    }
   ],
   "source": [
    "food['product_name'][20]"
   ]
  },
  {
   "cell_type": "markdown",
   "metadata": {},
   "source": [
    "# Exercise 2\n",
    "\n",
    "In this exercise, we will practice two important software engineering principles:\n",
    "\n",
    "- **DRY (don't repeat yourself)**\n",
    "    - Principle when writing functions (and coding in general): functions most be concise, clear and non-repetitive.\n",
    "    - When we start repeating ourselves in code, it is often the signal that we need to write a function to prevent this.\n",
    "\n",
    "- **DOT (do one thing)**\n",
    "    - Any function should only have 1 responsability : for instance, load data (this is 1), process data (this is another 1), plot the data (another 1)\n",
    "    - Try as much as possible to avoid functions that do everything.\n",
    " \n",
    "### Exercise 2(a) (4 points)\n",
    "\n",
    "Create a data-frame called `df` that contains four columns called `gpa_y1`, `gpa_y2`, `gpa_y3`, and `gpa_y4`. Fill these four columns with 20 random gpa values from 1.0 to 4.0 using the [random uniform](https://numpy.org/doc/stable/reference/random/generated/numpy.random.uniform.html) function from `numpy`. Notice that `df` is a `pandas` data-frame where each row is a student with 4 columns of yearly student GPAs."
   ]
  },
  {
   "cell_type": "code",
   "execution_count": 45,
   "metadata": {},
   "outputs": [
    {
     "name": "stdout",
     "output_type": "stream",
     "text": [
      "      gpa_y1    gpa_y2    gpa_y3    gpa_y4\n",
      "0   3.577228  3.915520  1.060338  1.626300\n",
      "1   2.947124  3.207151  2.392038  3.689616\n",
      "2   1.188600  1.612535  3.300089  1.555060\n",
      "3   1.441064  1.876819  2.152659  1.009552\n",
      "4   1.357139  1.363146  3.409909  3.571896\n",
      "5   1.878675  3.502580  3.611528  3.726977\n",
      "6   1.384938  3.409559  1.220890  3.129784\n",
      "7   3.331002  2.167734  1.855623  1.351121\n",
      "8   1.430007  2.872090  2.829851  3.565950\n",
      "9   3.682796  2.054448  3.476276  2.671051\n",
      "10  2.740003  3.325713  3.325992  1.152542\n",
      "11  2.956201  1.168332  3.308528  2.085084\n",
      "12  1.753840  3.301446  3.381311  2.837572\n",
      "13  3.714193  3.599289  2.324491  2.393458\n",
      "14  3.611099  2.887716  3.618011  3.336578\n",
      "15  2.112753  1.103192  3.430483  2.567019\n",
      "16  2.679544  3.462168  2.761924  3.866772\n",
      "17  1.590558  3.702214  2.109453  2.236501\n",
      "18  1.114158  1.182331  3.230680  3.296632\n",
      "19  3.851174  1.332440  1.453805  2.240115\n"
     ]
    }
   ],
   "source": [
    "import numpy as np\n",
    "\n",
    "data = {\n",
    "    'gpa_y1': np.random.uniform(1.0, 4.0, 20),\n",
    "    'gpa_y2': np.random.uniform(1.0, 4.0, 20),\n",
    "    'gpa_y3': np.random.uniform(1.0, 4.0, 20),\n",
    "    'gpa_y4': np.random.uniform(1.0, 4.0, 20),\n",
    "}\n",
    "\n",
    "df = pd.DataFrame(data)\n",
    "print(df)"
   ]
  },
  {
   "cell_type": "markdown",
   "metadata": {},
   "source": [
    "### Exercise 2(b) (5 points)\n",
    "\n",
    "Compute the `z-score` of each of the columns using the following formula: $$z = \\frac{x - mean}{std}$$ where `mean` and the `std` represent the mean and the standard deviation of the values stored in the column, respectively. Create four columns called `z_y1`, `z_y2`, `z_y3`, and `z_y4` that represent the `z-scores` of the `gpa_y1`, `gpa_y2`, `gpa_y3`, and `gpa_y4`, respectively. Make sure the use the `z-score` formula. "
   ]
  },
  {
   "cell_type": "code",
   "execution_count": 46,
   "metadata": {},
   "outputs": [
    {
     "name": "stdout",
     "output_type": "stream",
     "text": [
      "      gpa_y1    gpa_y2    gpa_y3    gpa_y4      z_y1      z_y2      z_y3  \\\n",
      "0   3.577228  3.915520  1.060338  1.626300  1.175036  1.360514 -1.980478   \n",
      "1   2.947124  3.207151  2.392038  3.689616  0.536832  0.653540 -0.384331   \n",
      "2   1.188600  1.612535  3.300089  1.555060 -1.244296 -0.937936  0.704039   \n",
      "3   1.441064  1.876819  2.152659  1.009552 -0.988586 -0.674172 -0.671245   \n",
      "4   1.357139  1.363146  3.409909  3.571896 -1.073590 -1.186833  0.835666   \n",
      "5   1.878675  3.502580  3.611528  3.726977 -0.545351  0.948388  1.077322   \n",
      "6   1.384938  3.409559  1.220890  3.129784 -1.045434  0.855549 -1.788043   \n",
      "7   3.331002  2.167734  1.855623  1.351121  0.925645 -0.383830 -1.027266   \n",
      "8   1.430007  2.872090  2.829851  3.565950 -0.999786  0.319139  0.140422   \n",
      "9   3.682796  2.054448  3.476276  2.671051  1.281961 -0.496893  0.915213   \n",
      "10  2.740003  3.325713  3.325992  1.152542  0.327049  0.771869  0.735086   \n",
      "11  2.956201  1.168332  3.308528  2.085084  0.546026 -1.381264  0.714154   \n",
      "12  1.753840  3.301446  3.381311  2.837572 -0.671790  0.747650  0.801390   \n",
      "13  3.714193  3.599289  2.324491  2.393458  1.313761  1.044906 -0.465292   \n",
      "14  3.611099  2.887716  3.618011  3.336578  1.209342  0.334734  1.085093   \n",
      "15  2.112753  1.103192  3.430483  2.567019 -0.308264 -1.446275  0.860326   \n",
      "16  2.679544  3.462168  2.761924  3.866772  0.265813  0.908056  0.059006   \n",
      "17  1.590558  3.702214  2.109453  2.236501 -0.837171  1.147629 -0.723031   \n",
      "18  1.114158  1.182331  3.230680  3.296632 -1.319695 -1.367293  0.620846   \n",
      "19  3.851174  1.332440  1.453805  2.240115  1.452502 -1.217479 -1.508876   \n",
      "\n",
      "        z_y4  \n",
      "0  -1.052717  \n",
      "1   1.188445  \n",
      "2  -1.130097  \n",
      "3  -1.722625  \n",
      "4   1.060579  \n",
      "5   1.229027  \n",
      "6   0.580359  \n",
      "7  -1.351615  \n",
      "8   1.054120  \n",
      "9   0.082086  \n",
      "10 -1.567310  \n",
      "11 -0.554388  \n",
      "12  0.262961  \n",
      "13 -0.219434  \n",
      "14  0.804977  \n",
      "15 -0.030913  \n",
      "16  1.380872  \n",
      "17 -0.389920  \n",
      "18  0.761588  \n",
      "19 -0.385994  \n"
     ]
    }
   ],
   "source": [
    "for col in ['gpa_y1', 'gpa_y2', 'gpa_y3', 'gpa_y4']:\n",
    "    mean = df[col].mean()\n",
    "    std_dev = df[col].std()\n",
    "    df[f'z_y{col[-1]}'] = (df[col] - mean) / std_dev\n",
    "    \n",
    "print(df)"
   ]
  },
  {
   "cell_type": "markdown",
   "metadata": {},
   "source": [
    "### Exercise 2(c) (5 points)\n",
    "\n",
    "Create a function called called `standardize` that computes the `z-scores` of a given `pandas` data-frame. Feel free to use the below code skeleton. \n",
    "\n",
    "```\n",
    "def standardize(column):\n",
    "  \"\"\"Standardize the values in a column.\n",
    "\n",
    "  Args:\n",
    "    column (pandas Series): The data to standardize.\n",
    "\n",
    "  Returns:\n",
    "    pandas Series: the values as z-scores\n",
    "  \"\"\"\n",
    "  # Finish the function so that it returns the z-scores\n",
    "  \n",
    "\n",
    "```"
   ]
  },
  {
   "cell_type": "code",
   "execution_count": 48,
   "metadata": {},
   "outputs": [],
   "source": [
    "def standarize(df, columns):\n",
    "    for col in columns:\n",
    "        mean = df[col].mean()\n",
    "        std_dev = df[col].std()\n",
    "        df[f'z_y{col[-1]}'] = (df[col] - mean) / std_dev\n",
    "    return df"
   ]
  },
  {
   "cell_type": "markdown",
   "metadata": {},
   "source": [
    "### Exercise 2(d) (4 points)\n",
    "\n",
    "Use the function from part 2(c), Create four columns called `z_y1_1`, `z_y2_1`, `z_y3_1`, and `z_y4_1` that represent the `z-scores` of the `gpa_y1`, `gpa_y2`, `gpa_y3`, and `gpa_y4`, respectively."
   ]
  },
  {
   "cell_type": "code",
   "execution_count": 55,
   "metadata": {},
   "outputs": [
    {
     "name": "stdout",
     "output_type": "stream",
     "text": [
      "      gpa_y1    gpa_y2    gpa_y3    gpa_y4      z_y1      z_y2      z_y3  \\\n",
      "0   3.411134  1.980731  3.452196  1.345455  1.056227 -0.631640  0.813426   \n",
      "1   1.969792  1.958140  3.598872  1.951553 -0.749072 -0.660941  0.968802   \n",
      "2   3.534114  3.724413  2.870517  3.078501  1.210262  1.630026  0.197245   \n",
      "3   3.418183  1.966731  2.672693  2.674269  1.065057 -0.649798 -0.012313   \n",
      "4   3.056788  1.794473  3.276072  2.809894  0.612405 -0.873229  0.626855   \n",
      "5   1.732187  3.074522  1.916238  1.337316 -1.046675  0.787076 -0.813638   \n",
      "6   3.795199  3.051798  3.910975  3.698555  1.537274  0.757602  1.299418   \n",
      "7   2.833148  3.428971  1.265160  1.281045  0.332293  1.246820 -1.503334   \n",
      "8   2.472081  1.983735  2.021627  3.718613 -0.119948 -0.627744 -0.701997   \n",
      "9   1.611635  2.335786  3.709494  3.167507 -1.197669 -0.171111  1.085985   \n",
      "10  1.454504  2.796752  1.216500  1.508581 -1.394477  0.426792 -1.554881   \n",
      "11  2.422417  1.414104  2.874143  2.583195 -0.182153 -1.366591  0.201085   \n",
      "12  2.194246  3.780647  1.968370  1.457388 -0.467941  1.702965 -0.758413   \n",
      "13  2.229627  2.750499  3.650875  1.731496 -0.423625  0.366798  1.023889   \n",
      "14  2.171440  1.873748  1.144629  1.358524 -0.496505 -0.770403 -1.631015   \n",
      "15  3.602090  2.411092  3.477492  1.875405  1.295402 -0.073434  0.840222   \n",
      "16  1.672110  3.503599  3.877312  3.907406 -1.121923  1.343617  1.263757   \n",
      "17  1.371256  2.008404  1.942129  2.237190 -1.498747 -0.595746 -0.786210   \n",
      "18  2.913673  2.450348  1.799380  3.834110  0.433151 -0.022517 -0.937427   \n",
      "19  3.491320  1.065663  3.041664  2.728801  1.156662 -1.818541  0.378543   \n",
      "\n",
      "        z_y4  \n",
      "0  -1.150560  \n",
      "1  -0.498088  \n",
      "2   0.715085  \n",
      "3   0.279924  \n",
      "4   0.425926  \n",
      "5  -1.159322  \n",
      "6   1.382580  \n",
      "7  -1.219899  \n",
      "8   1.404174  \n",
      "9   0.810901  \n",
      "10 -0.974953  \n",
      "11  0.181882  \n",
      "12 -1.030063  \n",
      "13 -0.734983  \n",
      "14 -1.136491  \n",
      "15 -0.580063  \n",
      "16  1.607411  \n",
      "17 -0.190597  \n",
      "18  1.528507  \n",
      "19  0.338629  \n"
     ]
    }
   ],
   "source": [
    "import numpy as np\n",
    "\n",
    "data = {\n",
    "    'gpa_y1': np.random.uniform(1.0, 4.0, 20),\n",
    "    'gpa_y2': np.random.uniform(1.0, 4.0, 20),\n",
    "    'gpa_y3': np.random.uniform(1.0, 4.0, 20),\n",
    "    'gpa_y4': np.random.uniform(1.0, 4.0, 20),\n",
    "}\n",
    "\n",
    "df = pd.DataFrame(data)\n",
    "\n",
    "columns = ['gpa_y1', 'gpa_y2', 'gpa_y3', 'gpa_y4']\n",
    "\n",
    "df = standarize(df, columns)\n",
    "\n",
    "print(df)\n"
   ]
  },
  {
   "cell_type": "markdown",
   "metadata": {},
   "source": [
    "### Exercise 2(e) (5 points)\n",
    "\n",
    "Another student has written this function to calculate the mean and median of a list. You want to show them how to split it into two simpler functions: `mean()` and `median()`.\n",
    "\n",
    "```\n",
    "def mean_and_median(values):\n",
    "  \"\"\"Get the mean and median of a list of 'values'\n",
    "\n",
    "  Args:\n",
    "    values (iterable of float): A list of numbers\n",
    "\n",
    "  Returns:\n",
    "    tuple (float, float): The mean and median\n",
    "  \"\"\"\n",
    "  mean = sum(values) / len(values)\n",
    "  midpoint = int(len(values) / 2)\n",
    "  if len(values) % 2 == 0:\n",
    "    median = (values[midpoint - 1] + values[midpoint]) / 2\n",
    "  else:\n",
    "    median = values[midpoint]\n",
    "\n",
    "  return mean, median\n",
    "```\n",
    "\n",
    "Split the above function into two functions called `mean()` and `median()`."
   ]
  },
  {
   "cell_type": "code",
   "execution_count": 52,
   "metadata": {},
   "outputs": [],
   "source": [
    "def mean(values):\n",
    "  mean = sum(values) / len(values)\n",
    "  return mean\n",
    "\n",
    "def median(values):\n",
    "  midpoint = int(len(values) / 2)\n",
    "  if len(values) % 2 == 0:\n",
    "    median = (values[midpoint - 1] + values[midpoint]) / 2\n",
    "  else:\n",
    "    median = values[midpoint]\n",
    "\n",
    "  return median"
   ]
  },
  {
   "cell_type": "markdown",
   "metadata": {},
   "source": [
    "### Exercise 2(f) (4 points)\n",
    "\n",
    "Using the functions from part 2(e), report the mean and median of `gpa_y3`."
   ]
  },
  {
   "cell_type": "code",
   "execution_count": 57,
   "metadata": {},
   "outputs": [
    {
     "name": "stdout",
     "output_type": "stream",
     "text": [
      "mean: 2.68431685817193\n",
      "median: 2.4629967515032565\n"
     ]
    }
   ],
   "source": [
    "print('mean:', mean(df['gpa_y3']))\n",
    "print('median:', median(df['gpa_y3']))"
   ]
  },
  {
   "cell_type": "markdown",
   "metadata": {},
   "source": [
    "### Exercise 2(g) (3 points)\n",
    "\n",
    "In statistics, the [skewness](https://en.wikipedia.org/wiki/Skewness) of the distribution allows us to have a better understading of the data. A common rules of thumb are:\n",
    "\n",
    "- If the mean > median, then the distribution is considered right-skew.\n",
    "- If the mean $\\approx$ median, then the distribution is considered symmetric.\n",
    "- If the mean < median, then the distribution is considered left-skew.\n",
    "\n",
    "Using the above rules, what can you conclude about the distribution of `gpa_y3`."
   ]
  },
  {
   "cell_type": "markdown",
   "metadata": {},
   "source": [
    "Based on these results the distribution would be slightly right-skew"
   ]
  }
 ],
 "metadata": {
  "anaconda-cloud": {},
  "kernelspec": {
   "display_name": "Python [default]",
   "language": "python",
   "name": "python3"
  },
  "language_info": {
   "codemirror_mode": {
    "name": "ipython",
    "version": 3
   },
   "file_extension": ".py",
   "mimetype": "text/x-python",
   "name": "python",
   "nbconvert_exporter": "python",
   "pygments_lexer": "ipython3",
   "version": "3.11.2"
  }
 },
 "nbformat": 4,
 "nbformat_minor": 1
}
