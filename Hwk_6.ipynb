{
 "cells": [
  {
   "cell_type": "markdown",
   "metadata": {},
   "source": [
    "# Exercise 1 \n",
    "\n",
    "You are working with a dataset containing sales information (shown below), but the data has several inconsistencies and formatting issues. Your task is to clean the data using Python, focusing on applying proper formatting, while following good coding practices (such as readable variable names, comments, consistent indentation, and use of functions). You will fix issues related to missing values, incorrect data types, string inconsistencies, and extra whitespaces.\n",
    "\n",
    "| Customer ID | Name | Age | Gender | Purchase Amount | Purchase Date | Payment Method | Location |\n",
    "| -------- | ------- | ------- | ------- | ------- | ------- | ------- | ------- |\n",
    "| 1 | John Doe | 45 | Male | 2500.50 | 2023-01-15 | Creditcard | New York |\n",
    "| 2 | jennifer Smith | 34 | female | 180.75 | 2022/05/12 | Bank Transfer | San Francisco |\n",
    "| 3 | Ron Miller | NaN | Male | 500.0 | 2023/03/14 | PayPal | NewYork |\n",
    "| 4 | Mary Johnson | 29 | Female | -120.00 | 2023-07-30 | Credit Card | Los Angeles |\n",
    "| 5 | Tim Lewis | 41 | male | 75.0 | 2023-02-15 | cash | San Francisco |\n",
    "\n",
    "### Exercise 1(a) (2 points)\n",
    "\n",
    "Load `pandas` and `numpy`."
   ]
  },
  {
   "cell_type": "code",
   "execution_count": 9,
   "metadata": {},
   "outputs": [],
   "source": [
    "import pandas as pd\n",
    "import numpy as np"
   ]
  },
  {
   "cell_type": "markdown",
   "metadata": {},
   "source": [
    "### Exercise 1(b) (3 points)\n",
    "\n",
    "Create a data frame called `df` with the below data dictionary.\n",
    "\n",
    "```\n",
    "data = {\n",
    "    'Customer ID': [1, 2, 3, 4, 5],\n",
    "    'Name': ['John Doe', 'jennifer Smith', 'Ron Miller', 'Mary Johnson', 'Tim Lewis'],\n",
    "    'Age': [45, 34, np.nan, 29, 41],\n",
    "    'Gender': ['Male', 'female', 'Male', 'Female', 'male'],\n",
    "    'Purchase Amount': [2500.50, 180.75, 500.0, -120.00, 75.0],\n",
    "    'Purchase Date': ['2023-01-15', '2022/05/12', '2023/03/14', '2023-07-30', '2023-02-15'],\n",
    "    'Payment Method': ['Creditcard', 'Bank Transfer', 'PayPal', 'Credit Card', 'cash'],\n",
    "    'Location': ['New York', 'San Francisco', 'NewYork', 'Los Angeles', 'San Francisco']\n",
    "}\n",
    "```"
   ]
  },
  {
   "cell_type": "code",
   "execution_count": 2,
   "metadata": {},
   "outputs": [
    {
     "data": {
      "text/html": [
       "<div>\n",
       "<style scoped>\n",
       "    .dataframe tbody tr th:only-of-type {\n",
       "        vertical-align: middle;\n",
       "    }\n",
       "\n",
       "    .dataframe tbody tr th {\n",
       "        vertical-align: top;\n",
       "    }\n",
       "\n",
       "    .dataframe thead th {\n",
       "        text-align: right;\n",
       "    }\n",
       "</style>\n",
       "<table border=\"1\" class=\"dataframe\">\n",
       "  <thead>\n",
       "    <tr style=\"text-align: right;\">\n",
       "      <th></th>\n",
       "      <th>Customer ID</th>\n",
       "      <th>Name</th>\n",
       "      <th>Age</th>\n",
       "      <th>Gender</th>\n",
       "      <th>Purchase Amount</th>\n",
       "      <th>Purchase Date</th>\n",
       "      <th>Payment Method</th>\n",
       "      <th>Location</th>\n",
       "    </tr>\n",
       "  </thead>\n",
       "  <tbody>\n",
       "    <tr>\n",
       "      <th>0</th>\n",
       "      <td>1</td>\n",
       "      <td>John Doe</td>\n",
       "      <td>45.0</td>\n",
       "      <td>Male</td>\n",
       "      <td>2500.50</td>\n",
       "      <td>2023-01-15</td>\n",
       "      <td>Creditcard</td>\n",
       "      <td>New York</td>\n",
       "    </tr>\n",
       "    <tr>\n",
       "      <th>1</th>\n",
       "      <td>2</td>\n",
       "      <td>jennifer Smith</td>\n",
       "      <td>34.0</td>\n",
       "      <td>female</td>\n",
       "      <td>180.75</td>\n",
       "      <td>2022/05/12</td>\n",
       "      <td>Bank Transfer</td>\n",
       "      <td>San Francisco</td>\n",
       "    </tr>\n",
       "    <tr>\n",
       "      <th>2</th>\n",
       "      <td>3</td>\n",
       "      <td>Ron Miller</td>\n",
       "      <td>NaN</td>\n",
       "      <td>Male</td>\n",
       "      <td>500.00</td>\n",
       "      <td>2023/03/14</td>\n",
       "      <td>PayPal</td>\n",
       "      <td>NewYork</td>\n",
       "    </tr>\n",
       "    <tr>\n",
       "      <th>3</th>\n",
       "      <td>4</td>\n",
       "      <td>Mary Johnson</td>\n",
       "      <td>29.0</td>\n",
       "      <td>Female</td>\n",
       "      <td>-120.00</td>\n",
       "      <td>2023-07-30</td>\n",
       "      <td>Credit Card</td>\n",
       "      <td>Los Angeles</td>\n",
       "    </tr>\n",
       "    <tr>\n",
       "      <th>4</th>\n",
       "      <td>5</td>\n",
       "      <td>Tim Lewis</td>\n",
       "      <td>41.0</td>\n",
       "      <td>male</td>\n",
       "      <td>75.00</td>\n",
       "      <td>2023-02-15</td>\n",
       "      <td>cash</td>\n",
       "      <td>San Francisco</td>\n",
       "    </tr>\n",
       "  </tbody>\n",
       "</table>\n",
       "</div>"
      ],
      "text/plain": [
       "   Customer ID            Name   Age  Gender  Purchase Amount Purchase Date  \\\n",
       "0            1        John Doe  45.0    Male          2500.50    2023-01-15   \n",
       "1            2  jennifer Smith  34.0  female           180.75    2022/05/12   \n",
       "2            3      Ron Miller   NaN    Male           500.00    2023/03/14   \n",
       "3            4    Mary Johnson  29.0  Female          -120.00    2023-07-30   \n",
       "4            5       Tim Lewis  41.0    male            75.00    2023-02-15   \n",
       "\n",
       "  Payment Method       Location  \n",
       "0     Creditcard       New York  \n",
       "1  Bank Transfer  San Francisco  \n",
       "2         PayPal        NewYork  \n",
       "3    Credit Card    Los Angeles  \n",
       "4           cash  San Francisco  "
      ]
     },
     "execution_count": 2,
     "metadata": {},
     "output_type": "execute_result"
    }
   ],
   "source": [
    "data = {\n",
    "    'Customer ID': [1, 2, 3, 4, 5],\n",
    "    'Name': ['John Doe', 'jennifer Smith', 'Ron Miller', 'Mary Johnson', 'Tim Lewis'],\n",
    "    'Age': [45, 34, np.nan, 29, 41],\n",
    "    'Gender': ['Male', 'female', 'Male', 'Female', 'male'],\n",
    "    'Purchase Amount': [2500.50, 180.75, 500.0, -120.00, 75.0],\n",
    "    'Purchase Date': ['2023-01-15', '2022/05/12', '2023/03/14', '2023-07-30', '2023-02-15'],\n",
    "    'Payment Method': ['Creditcard', 'Bank Transfer', 'PayPal', 'Credit Card', 'cash'],\n",
    "    'Location': ['New York', 'San Francisco', 'NewYork', 'Los Angeles', 'San Francisco']\n",
    "}\n",
    "\n",
    "df = pd.DataFrame(data)\n",
    "df"
   ]
  },
  {
   "cell_type": "markdown",
   "metadata": {},
   "source": [
    "### Exercise 1(c) (15 points)\n",
    "\n",
    "Create a function that perfoms the below cleaning steps. Ensure that your code is well-formatted and uses good practices like function definitions, variable names, and comments.\n",
    "\n",
    "- Standardize the `Gender` column:\n",
    "    - Ensure that all values in the `Gender` column are either `Male` or `Female` (proper case).\n",
    "\n",
    "- Handle missing values in the `Age` column:\n",
    "    - Fill the missing values in the `Age` column with the average age of all customers.\n",
    "\n",
    "- Fix formatting issues in the `Purchase Date` column:\n",
    "    - Ensure all dates are in the format `YYYY-MM-DD`.\n",
    "\n",
    "- Correct invalid values in the `Purchase Amount` column:\n",
    "    - Replace any negative purchase amounts with their absolute values.\n",
    "\n",
    "- Fix the `Payment Method` column:\n",
    "    - Standardize the payment methods (`Creditcard`, `Credit Card` -> `Credit Card`).\n",
    "\n",
    "- Remove extra spaces and correct inconsistent locations:\n",
    "    - Remove any extra spaces in the `Location` column and ensure consistent formatting (e.g., `NewYork` -> `New York`).\n",
    "\n",
    "- Write a function:\n",
    "    - Create a function that performs all of the above cleaning steps in a single process and returns the cleaned DataFrame.\n",
    "\n",
    "The expected output of the function should be:\n",
    "\n",
    "| Customer ID | Name | Age | Gender | Purchase Amount | Purchase Date | Payment Method | Location |\n",
    "| -------- | ------- | ------- | ------- | ------- | ------- | ------- | ------- |\n",
    "| 1 | John Doe | 45 | Male | 2500.50 | 2023-01-15 | Credit Card | New York |\n",
    "| 2 | jennifer Smith | 34 | Female | 180.75 | 2022-05-12 | Bank Transfer | San Francisco |\n",
    "| 3 | Ron Miller | 37.25 | Male | 500.0 | 2023-03-14 | PayPal | New York |\n",
    "| 4 | Mary Johnson | 29 | Female | 120.00 | 2023-07-30 | Credit Card | Los Angeles |\n",
    "| 5 | Tim Lewis | 41 | Male | 75.0 | 2023-02-15 | Cash | San Francisco |"
   ]
  },
  {
   "cell_type": "code",
   "execution_count": 25,
   "metadata": {},
   "outputs": [
    {
     "data": {
      "text/html": [
       "<div>\n",
       "<style scoped>\n",
       "    .dataframe tbody tr th:only-of-type {\n",
       "        vertical-align: middle;\n",
       "    }\n",
       "\n",
       "    .dataframe tbody tr th {\n",
       "        vertical-align: top;\n",
       "    }\n",
       "\n",
       "    .dataframe thead th {\n",
       "        text-align: right;\n",
       "    }\n",
       "</style>\n",
       "<table border=\"1\" class=\"dataframe\">\n",
       "  <thead>\n",
       "    <tr style=\"text-align: right;\">\n",
       "      <th></th>\n",
       "      <th>Customer ID</th>\n",
       "      <th>Name</th>\n",
       "      <th>Age</th>\n",
       "      <th>Gender</th>\n",
       "      <th>Purchase Amount</th>\n",
       "      <th>Purchase Date</th>\n",
       "      <th>Payment Method</th>\n",
       "      <th>Location</th>\n",
       "    </tr>\n",
       "  </thead>\n",
       "  <tbody>\n",
       "    <tr>\n",
       "      <th>0</th>\n",
       "      <td>1</td>\n",
       "      <td>John Doe</td>\n",
       "      <td>45.00</td>\n",
       "      <td>Male</td>\n",
       "      <td>2500.50</td>\n",
       "      <td>2023-01-15</td>\n",
       "      <td>Credit Card</td>\n",
       "      <td>New York</td>\n",
       "    </tr>\n",
       "    <tr>\n",
       "      <th>1</th>\n",
       "      <td>2</td>\n",
       "      <td>jennifer Smith</td>\n",
       "      <td>34.00</td>\n",
       "      <td>Female</td>\n",
       "      <td>180.75</td>\n",
       "      <td>2022-05-12</td>\n",
       "      <td>Bank Transfer</td>\n",
       "      <td>San Francisco</td>\n",
       "    </tr>\n",
       "    <tr>\n",
       "      <th>2</th>\n",
       "      <td>3</td>\n",
       "      <td>Ron Miller</td>\n",
       "      <td>37.25</td>\n",
       "      <td>Male</td>\n",
       "      <td>500.00</td>\n",
       "      <td>2023-03-14</td>\n",
       "      <td>Paypal</td>\n",
       "      <td>New York</td>\n",
       "    </tr>\n",
       "    <tr>\n",
       "      <th>3</th>\n",
       "      <td>4</td>\n",
       "      <td>Mary Johnson</td>\n",
       "      <td>29.00</td>\n",
       "      <td>Female</td>\n",
       "      <td>120.00</td>\n",
       "      <td>2023-07-30</td>\n",
       "      <td>Credit Card</td>\n",
       "      <td>Los Angeles</td>\n",
       "    </tr>\n",
       "    <tr>\n",
       "      <th>4</th>\n",
       "      <td>5</td>\n",
       "      <td>Tim Lewis</td>\n",
       "      <td>41.00</td>\n",
       "      <td>Male</td>\n",
       "      <td>75.00</td>\n",
       "      <td>2023-02-15</td>\n",
       "      <td>Cash</td>\n",
       "      <td>San Francisco</td>\n",
       "    </tr>\n",
       "  </tbody>\n",
       "</table>\n",
       "</div>"
      ],
      "text/plain": [
       "   Customer ID            Name    Age  Gender  Purchase Amount Purchase Date  \\\n",
       "0            1        John Doe  45.00    Male          2500.50    2023-01-15   \n",
       "1            2  jennifer Smith  34.00  Female           180.75    2022-05-12   \n",
       "2            3      Ron Miller  37.25    Male           500.00    2023-03-14   \n",
       "3            4    Mary Johnson  29.00  Female           120.00    2023-07-30   \n",
       "4            5       Tim Lewis  41.00    Male            75.00    2023-02-15   \n",
       "\n",
       "  Payment Method       Location  \n",
       "0    Credit Card       New York  \n",
       "1  Bank Transfer  San Francisco  \n",
       "2         Paypal       New York  \n",
       "3    Credit Card    Los Angeles  \n",
       "4           Cash  San Francisco  "
      ]
     },
     "execution_count": 25,
     "metadata": {},
     "output_type": "execute_result"
    }
   ],
   "source": [
    "def clean_df(df):\n",
    "    df['Gender'] = df['Gender'].str.capitalize()\n",
    "    df['Age'] = df['Age'].fillna(np.mean(df['Age']))\n",
    "    df['Purchase Date'] = pd.to_datetime(df['Purchase Date'], format=\"mixed\")\n",
    "    df['Purchase Amount'] = df['Purchase Amount'].abs()\n",
    "    df['Payment Method'] = df['Payment Method'].str.title().str.replace('Creditcard', 'Credit Card')\n",
    "    df['Location'] = df['Location'].str.replace(' ','').str.replace(r'(?<!^)(?=[A-Z])', ' ', regex=True)\n",
    "    return df\n",
    "\n",
    "clean_df(df)\n"
   ]
  },
  {
   "cell_type": "markdown",
   "metadata": {},
   "source": [
    "# Exercise 2 \n",
    "\n",
    "In this exercise, we will explore the `shopping_trends.csv` data file. The Customer Shopping Preferences Dataset offers valuable insights into consumer behavior and purchasing patterns. Understanding customer preferences and trends is critical for businesses to tailor their products, marketing strategies, and overall customer experience. This dataset captures a wide range of customer attributes including age, gender, purchase history, preferred payment methods, frequency of purchases, and more. Analyzing this data can help businesses make informed decisions, optimize product offerings, and enhance customer satisfaction. The dataset stands as a valuable resource for businesses aiming to align their strategies with customer needs and preferences. A brief description of each of the columns in the data set is presented below.\n",
    "\n",
    "\n",
    "- `Customer ID`: Unique identifier for each customer\n",
    "- `Age`: Age of the customer\n",
    "- `Gender`: Gender of the customer (Male/Female)\n",
    "- `Item Purchased`: The item purchased by the customer\n",
    "- `Category`: Category of the item purchased\n",
    "- `Purchase Amount (USD)`: The amount of the purchase in USD\n",
    "- `Location`: Location where the purchase was made\n",
    "- `Size`: Size of the purchased item\n",
    "- `Color`: Color of the purchased item\n",
    "- `Season`: Season during which the purchase was made\n",
    "- `Review Rating`: Rating given by the customer for the purchased item\n",
    "- `Subscription Status`: Indicates if the customer has a subscription (Yes/No)\n",
    "- `Shipping Type`: Type of shipping chosen by the customer\n",
    "- `Discount Applied`: Indicates if a discount was applied to the purchase (Yes/No)\n",
    "- `Promo Code Used`: Indicates if a promo code was used for the purchase (Yes/No)\n",
    "- `Previous Purchases`: The total count of transactions concluded by the customer at the store, excluding the ongoing transaction\n",
    "- `Payment Method`: Customer's most preferred payment method\n",
    "- `Frequency of Purchases`: Frequency at which the customer makes purchases (e.g., Weekly, Fortnightly, Monthly)\n",
    "\n",
    "### Exercise 2(a) (2 points)\n",
    "\n",
    "Load `pandas`, `matplotlib`, and `seaborn`\n"
   ]
  },
  {
   "cell_type": "code",
   "execution_count": 26,
   "metadata": {},
   "outputs": [],
   "source": [
    "import matplotlib.pyplot as plt\n",
    "import seaborn as sns"
   ]
  },
  {
   "cell_type": "markdown",
   "metadata": {},
   "source": [
    "### Exercise 2(b) (2 points)\n",
    "\n",
    "Read the `shopping_trends.csv` data file and create a data frame called `df`."
   ]
  },
  {
   "cell_type": "code",
   "execution_count": 27,
   "metadata": {},
   "outputs": [
    {
     "data": {
      "text/html": [
       "<div>\n",
       "<style scoped>\n",
       "    .dataframe tbody tr th:only-of-type {\n",
       "        vertical-align: middle;\n",
       "    }\n",
       "\n",
       "    .dataframe tbody tr th {\n",
       "        vertical-align: top;\n",
       "    }\n",
       "\n",
       "    .dataframe thead th {\n",
       "        text-align: right;\n",
       "    }\n",
       "</style>\n",
       "<table border=\"1\" class=\"dataframe\">\n",
       "  <thead>\n",
       "    <tr style=\"text-align: right;\">\n",
       "      <th></th>\n",
       "      <th>Customer ID</th>\n",
       "      <th>Age</th>\n",
       "      <th>Gender</th>\n",
       "      <th>Item Purchased</th>\n",
       "      <th>Category</th>\n",
       "      <th>Purchase Amount (USD)</th>\n",
       "      <th>Location</th>\n",
       "      <th>Size</th>\n",
       "      <th>Color</th>\n",
       "      <th>Season</th>\n",
       "      <th>Review Rating</th>\n",
       "      <th>Subscription Status</th>\n",
       "      <th>Payment Method</th>\n",
       "      <th>Shipping Type</th>\n",
       "      <th>Discount Applied</th>\n",
       "      <th>Promo Code Used</th>\n",
       "      <th>Previous Purchases</th>\n",
       "      <th>Preferred Payment Method</th>\n",
       "      <th>Frequency of Purchases</th>\n",
       "    </tr>\n",
       "  </thead>\n",
       "  <tbody>\n",
       "    <tr>\n",
       "      <th>0</th>\n",
       "      <td>1</td>\n",
       "      <td>55</td>\n",
       "      <td>Male</td>\n",
       "      <td>Blouse</td>\n",
       "      <td>Clothing</td>\n",
       "      <td>53</td>\n",
       "      <td>Kentucky</td>\n",
       "      <td>L</td>\n",
       "      <td>Gray</td>\n",
       "      <td>Winter</td>\n",
       "      <td>3.1</td>\n",
       "      <td>Yes</td>\n",
       "      <td>Credit Card</td>\n",
       "      <td>Express</td>\n",
       "      <td>Yes</td>\n",
       "      <td>Yes</td>\n",
       "      <td>14</td>\n",
       "      <td>Venmo</td>\n",
       "      <td>Fortnightly</td>\n",
       "    </tr>\n",
       "    <tr>\n",
       "      <th>1</th>\n",
       "      <td>2</td>\n",
       "      <td>19</td>\n",
       "      <td>Male</td>\n",
       "      <td>Sweater</td>\n",
       "      <td>Clothing</td>\n",
       "      <td>64</td>\n",
       "      <td>Maine</td>\n",
       "      <td>L</td>\n",
       "      <td>Maroon</td>\n",
       "      <td>Winter</td>\n",
       "      <td>3.1</td>\n",
       "      <td>Yes</td>\n",
       "      <td>Bank Transfer</td>\n",
       "      <td>Express</td>\n",
       "      <td>Yes</td>\n",
       "      <td>Yes</td>\n",
       "      <td>2</td>\n",
       "      <td>Cash</td>\n",
       "      <td>Fortnightly</td>\n",
       "    </tr>\n",
       "    <tr>\n",
       "      <th>2</th>\n",
       "      <td>3</td>\n",
       "      <td>50</td>\n",
       "      <td>Male</td>\n",
       "      <td>Jeans</td>\n",
       "      <td>Clothing</td>\n",
       "      <td>73</td>\n",
       "      <td>Massachusetts</td>\n",
       "      <td>S</td>\n",
       "      <td>Maroon</td>\n",
       "      <td>Spring</td>\n",
       "      <td>3.1</td>\n",
       "      <td>Yes</td>\n",
       "      <td>Cash</td>\n",
       "      <td>Free Shipping</td>\n",
       "      <td>Yes</td>\n",
       "      <td>Yes</td>\n",
       "      <td>23</td>\n",
       "      <td>Credit Card</td>\n",
       "      <td>Weekly</td>\n",
       "    </tr>\n",
       "    <tr>\n",
       "      <th>3</th>\n",
       "      <td>4</td>\n",
       "      <td>21</td>\n",
       "      <td>Male</td>\n",
       "      <td>Sandals</td>\n",
       "      <td>Footwear</td>\n",
       "      <td>90</td>\n",
       "      <td>Rhode Island</td>\n",
       "      <td>M</td>\n",
       "      <td>Maroon</td>\n",
       "      <td>Spring</td>\n",
       "      <td>3.5</td>\n",
       "      <td>Yes</td>\n",
       "      <td>PayPal</td>\n",
       "      <td>Next Day Air</td>\n",
       "      <td>Yes</td>\n",
       "      <td>Yes</td>\n",
       "      <td>49</td>\n",
       "      <td>PayPal</td>\n",
       "      <td>Weekly</td>\n",
       "    </tr>\n",
       "    <tr>\n",
       "      <th>4</th>\n",
       "      <td>5</td>\n",
       "      <td>45</td>\n",
       "      <td>Male</td>\n",
       "      <td>Blouse</td>\n",
       "      <td>Clothing</td>\n",
       "      <td>49</td>\n",
       "      <td>Oregon</td>\n",
       "      <td>M</td>\n",
       "      <td>Turquoise</td>\n",
       "      <td>Spring</td>\n",
       "      <td>2.7</td>\n",
       "      <td>Yes</td>\n",
       "      <td>Cash</td>\n",
       "      <td>Free Shipping</td>\n",
       "      <td>Yes</td>\n",
       "      <td>Yes</td>\n",
       "      <td>31</td>\n",
       "      <td>PayPal</td>\n",
       "      <td>Annually</td>\n",
       "    </tr>\n",
       "  </tbody>\n",
       "</table>\n",
       "</div>"
      ],
      "text/plain": [
       "   Customer ID  Age Gender Item Purchased  Category  Purchase Amount (USD)  \\\n",
       "0            1   55   Male         Blouse  Clothing                     53   \n",
       "1            2   19   Male        Sweater  Clothing                     64   \n",
       "2            3   50   Male          Jeans  Clothing                     73   \n",
       "3            4   21   Male        Sandals  Footwear                     90   \n",
       "4            5   45   Male         Blouse  Clothing                     49   \n",
       "\n",
       "        Location Size      Color  Season  Review Rating Subscription Status  \\\n",
       "0       Kentucky    L       Gray  Winter            3.1                 Yes   \n",
       "1          Maine    L     Maroon  Winter            3.1                 Yes   \n",
       "2  Massachusetts    S     Maroon  Spring            3.1                 Yes   \n",
       "3   Rhode Island    M     Maroon  Spring            3.5                 Yes   \n",
       "4         Oregon    M  Turquoise  Spring            2.7                 Yes   \n",
       "\n",
       "  Payment Method  Shipping Type Discount Applied Promo Code Used  \\\n",
       "0    Credit Card        Express              Yes             Yes   \n",
       "1  Bank Transfer        Express              Yes             Yes   \n",
       "2           Cash  Free Shipping              Yes             Yes   \n",
       "3         PayPal   Next Day Air              Yes             Yes   \n",
       "4           Cash  Free Shipping              Yes             Yes   \n",
       "\n",
       "   Previous Purchases Preferred Payment Method Frequency of Purchases  \n",
       "0                  14                    Venmo            Fortnightly  \n",
       "1                   2                     Cash            Fortnightly  \n",
       "2                  23              Credit Card                 Weekly  \n",
       "3                  49                   PayPal                 Weekly  \n",
       "4                  31                   PayPal               Annually  "
      ]
     },
     "execution_count": 27,
     "metadata": {},
     "output_type": "execute_result"
    }
   ],
   "source": [
    "df = pd.read_csv('shopping_trends.csv')\n",
    "df.head()"
   ]
  },
  {
   "cell_type": "markdown",
   "metadata": {},
   "source": [
    "### Exercise 2(c) (2 points)\n",
    "\n",
    "Drop the `Customer ID` column."
   ]
  },
  {
   "cell_type": "code",
   "execution_count": 30,
   "metadata": {},
   "outputs": [
    {
     "data": {
      "text/html": [
       "<div>\n",
       "<style scoped>\n",
       "    .dataframe tbody tr th:only-of-type {\n",
       "        vertical-align: middle;\n",
       "    }\n",
       "\n",
       "    .dataframe tbody tr th {\n",
       "        vertical-align: top;\n",
       "    }\n",
       "\n",
       "    .dataframe thead th {\n",
       "        text-align: right;\n",
       "    }\n",
       "</style>\n",
       "<table border=\"1\" class=\"dataframe\">\n",
       "  <thead>\n",
       "    <tr style=\"text-align: right;\">\n",
       "      <th></th>\n",
       "      <th>Age</th>\n",
       "      <th>Gender</th>\n",
       "      <th>Item Purchased</th>\n",
       "      <th>Category</th>\n",
       "      <th>Purchase Amount (USD)</th>\n",
       "      <th>Location</th>\n",
       "      <th>Size</th>\n",
       "      <th>Color</th>\n",
       "      <th>Season</th>\n",
       "      <th>Review Rating</th>\n",
       "      <th>Subscription Status</th>\n",
       "      <th>Payment Method</th>\n",
       "      <th>Shipping Type</th>\n",
       "      <th>Discount Applied</th>\n",
       "      <th>Promo Code Used</th>\n",
       "      <th>Previous Purchases</th>\n",
       "      <th>Preferred Payment Method</th>\n",
       "      <th>Frequency of Purchases</th>\n",
       "    </tr>\n",
       "  </thead>\n",
       "  <tbody>\n",
       "    <tr>\n",
       "      <th>0</th>\n",
       "      <td>55</td>\n",
       "      <td>Male</td>\n",
       "      <td>Blouse</td>\n",
       "      <td>Clothing</td>\n",
       "      <td>53</td>\n",
       "      <td>Kentucky</td>\n",
       "      <td>L</td>\n",
       "      <td>Gray</td>\n",
       "      <td>Winter</td>\n",
       "      <td>3.1</td>\n",
       "      <td>Yes</td>\n",
       "      <td>Credit Card</td>\n",
       "      <td>Express</td>\n",
       "      <td>Yes</td>\n",
       "      <td>Yes</td>\n",
       "      <td>14</td>\n",
       "      <td>Venmo</td>\n",
       "      <td>Fortnightly</td>\n",
       "    </tr>\n",
       "    <tr>\n",
       "      <th>1</th>\n",
       "      <td>19</td>\n",
       "      <td>Male</td>\n",
       "      <td>Sweater</td>\n",
       "      <td>Clothing</td>\n",
       "      <td>64</td>\n",
       "      <td>Maine</td>\n",
       "      <td>L</td>\n",
       "      <td>Maroon</td>\n",
       "      <td>Winter</td>\n",
       "      <td>3.1</td>\n",
       "      <td>Yes</td>\n",
       "      <td>Bank Transfer</td>\n",
       "      <td>Express</td>\n",
       "      <td>Yes</td>\n",
       "      <td>Yes</td>\n",
       "      <td>2</td>\n",
       "      <td>Cash</td>\n",
       "      <td>Fortnightly</td>\n",
       "    </tr>\n",
       "    <tr>\n",
       "      <th>2</th>\n",
       "      <td>50</td>\n",
       "      <td>Male</td>\n",
       "      <td>Jeans</td>\n",
       "      <td>Clothing</td>\n",
       "      <td>73</td>\n",
       "      <td>Massachusetts</td>\n",
       "      <td>S</td>\n",
       "      <td>Maroon</td>\n",
       "      <td>Spring</td>\n",
       "      <td>3.1</td>\n",
       "      <td>Yes</td>\n",
       "      <td>Cash</td>\n",
       "      <td>Free Shipping</td>\n",
       "      <td>Yes</td>\n",
       "      <td>Yes</td>\n",
       "      <td>23</td>\n",
       "      <td>Credit Card</td>\n",
       "      <td>Weekly</td>\n",
       "    </tr>\n",
       "    <tr>\n",
       "      <th>3</th>\n",
       "      <td>21</td>\n",
       "      <td>Male</td>\n",
       "      <td>Sandals</td>\n",
       "      <td>Footwear</td>\n",
       "      <td>90</td>\n",
       "      <td>Rhode Island</td>\n",
       "      <td>M</td>\n",
       "      <td>Maroon</td>\n",
       "      <td>Spring</td>\n",
       "      <td>3.5</td>\n",
       "      <td>Yes</td>\n",
       "      <td>PayPal</td>\n",
       "      <td>Next Day Air</td>\n",
       "      <td>Yes</td>\n",
       "      <td>Yes</td>\n",
       "      <td>49</td>\n",
       "      <td>PayPal</td>\n",
       "      <td>Weekly</td>\n",
       "    </tr>\n",
       "    <tr>\n",
       "      <th>4</th>\n",
       "      <td>45</td>\n",
       "      <td>Male</td>\n",
       "      <td>Blouse</td>\n",
       "      <td>Clothing</td>\n",
       "      <td>49</td>\n",
       "      <td>Oregon</td>\n",
       "      <td>M</td>\n",
       "      <td>Turquoise</td>\n",
       "      <td>Spring</td>\n",
       "      <td>2.7</td>\n",
       "      <td>Yes</td>\n",
       "      <td>Cash</td>\n",
       "      <td>Free Shipping</td>\n",
       "      <td>Yes</td>\n",
       "      <td>Yes</td>\n",
       "      <td>31</td>\n",
       "      <td>PayPal</td>\n",
       "      <td>Annually</td>\n",
       "    </tr>\n",
       "  </tbody>\n",
       "</table>\n",
       "</div>"
      ],
      "text/plain": [
       "   Age Gender Item Purchased  Category  Purchase Amount (USD)       Location  \\\n",
       "0   55   Male         Blouse  Clothing                     53       Kentucky   \n",
       "1   19   Male        Sweater  Clothing                     64          Maine   \n",
       "2   50   Male          Jeans  Clothing                     73  Massachusetts   \n",
       "3   21   Male        Sandals  Footwear                     90   Rhode Island   \n",
       "4   45   Male         Blouse  Clothing                     49         Oregon   \n",
       "\n",
       "  Size      Color  Season  Review Rating Subscription Status Payment Method  \\\n",
       "0    L       Gray  Winter            3.1                 Yes    Credit Card   \n",
       "1    L     Maroon  Winter            3.1                 Yes  Bank Transfer   \n",
       "2    S     Maroon  Spring            3.1                 Yes           Cash   \n",
       "3    M     Maroon  Spring            3.5                 Yes         PayPal   \n",
       "4    M  Turquoise  Spring            2.7                 Yes           Cash   \n",
       "\n",
       "   Shipping Type Discount Applied Promo Code Used  Previous Purchases  \\\n",
       "0        Express              Yes             Yes                  14   \n",
       "1        Express              Yes             Yes                   2   \n",
       "2  Free Shipping              Yes             Yes                  23   \n",
       "3   Next Day Air              Yes             Yes                  49   \n",
       "4  Free Shipping              Yes             Yes                  31   \n",
       "\n",
       "  Preferred Payment Method Frequency of Purchases  \n",
       "0                    Venmo            Fortnightly  \n",
       "1                     Cash            Fortnightly  \n",
       "2              Credit Card                 Weekly  \n",
       "3                   PayPal                 Weekly  \n",
       "4                   PayPal               Annually  "
      ]
     },
     "execution_count": 30,
     "metadata": {},
     "output_type": "execute_result"
    }
   ],
   "source": [
    "df = df.drop(columns='Customer ID')\n",
    "df.head()"
   ]
  },
  {
   "cell_type": "markdown",
   "metadata": {},
   "source": [
    "### Exercise 2(d) (4 points)\n",
    "\n",
    "Visualize the distribution of `Age`. Describe the chart."
   ]
  },
  {
   "cell_type": "code",
   "execution_count": 44,
   "metadata": {},
   "outputs": [
    {
     "data": {
      "image/png": "[encoded data removed]",
      "text/plain": [
       "<Figure size 1000x700 with 1 Axes>"
      ]
     },
     "metadata": {},
     "output_type": "display_data"
    }
   ],
   "source": [
    "fig, ax = plt.subplots(figsize = (10,7))\n",
    "\n",
    "sns.histplot(df['Age'], bins=20)\n",
    "plt.title('Distribution of Age')\n",
    "plt.xlabel('Age')\n",
    "plt.ylabel('Frequency')\n",
    "plt.show()"
   ]
  },
  {
   "cell_type": "markdown",
   "metadata": {},
   "source": [
    "From the above chart we can see an equal distribution of ages from 20-70"
   ]
  },
  {
   "cell_type": "markdown",
   "metadata": {},
   "source": [
    "### Exercise 2(e) (2 points)\n",
    "\n",
    "What is the most popular product category?"
   ]
  },
  {
   "cell_type": "code",
   "execution_count": 48,
   "metadata": {},
   "outputs": [
    {
     "data": {
      "text/plain": [
       "Category\n",
       "Clothing       1737\n",
       "Accessories    1240\n",
       "Footwear        599\n",
       "Outerwear       324\n",
       "Name: count, dtype: int64"
      ]
     },
     "execution_count": 48,
     "metadata": {},
     "output_type": "execute_result"
    }
   ],
   "source": [
    "df['Category'].value_counts()"
   ]
  },
  {
   "cell_type": "markdown",
   "metadata": {},
   "source": [
    "### Exercise 2(f) (3 points)\n",
    "\n",
    "What is the average purchase amount for each product category?"
   ]
  },
  {
   "cell_type": "code",
   "execution_count": 50,
   "metadata": {},
   "outputs": [
    {
     "data": {
      "text/plain": [
       "Category\n",
       "Accessories    59.838710\n",
       "Clothing       60.025331\n",
       "Footwear       60.255426\n",
       "Outerwear      57.172840\n",
       "Name: Purchase Amount (USD), dtype: float64"
      ]
     },
     "execution_count": 50,
     "metadata": {},
     "output_type": "execute_result"
    }
   ],
   "source": [
    "df['Purchase Amount (USD)'].groupby(df['Category']).mean()"
   ]
  },
  {
   "cell_type": "markdown",
   "metadata": {},
   "source": [
    "### Exercise 2(g) (3 points)\n",
    "\n",
    "What is the percentage of customers who have applied discounts on their purchases?"
   ]
  },
  {
   "cell_type": "code",
   "execution_count": 65,
   "metadata": {},
   "outputs": [
    {
     "name": "stdout",
     "output_type": "stream",
     "text": [
      "43.0 %\n"
     ]
    }
   ],
   "source": [
    "print((df[df['Discount Applied'] == 'Yes'].shape[0]/df.shape[0])*100,'%')"
   ]
  },
  {
   "cell_type": "markdown",
   "metadata": {},
   "source": [
    "### Exercise 2(h) (6 points)\n",
    "\n",
    "How does purchase amount vary across different payment methods? Create an appropriate chart that can help to answer this question."
   ]
  },
  {
   "cell_type": "code",
   "execution_count": 71,
   "metadata": {},
   "outputs": [
    {
     "data": {
      "image/png": "[encoded data removed]",
      "text/plain": [
       "<Figure size 1000x700 with 1 Axes>"
      ]
     },
     "metadata": {},
     "output_type": "display_data"
    }
   ],
   "source": [
    "fig, ax = plt.subplots(figsize = (10,7))\n",
    "\n",
    "sns.boxplot(x=df['Purchase Amount (USD)'], y=df['Payment Method'])\n",
    "plt.title('Purchase Amount by Payment Method')\n",
    "plt.xlabel('Purchase Amount (USD)')\n",
    "plt.ylabel('Payment Method')\n",
    "plt.show()"
   ]
  },
  {
   "cell_type": "markdown",
   "metadata": {},
   "source": [
    "From the above chart we can see credit card and venmo payments have the highest mean purchase amount and debit card has the lowest"
   ]
  },
  {
   "cell_type": "markdown",
   "metadata": {},
   "source": [
    "### Exercise 2(i) (3 points)\n",
    "\n",
    "What is the average number of previous purchases per customer?"
   ]
  },
  {
   "cell_type": "code",
   "execution_count": 73,
   "metadata": {},
   "outputs": [
    {
     "data": {
      "text/plain": [
       "25.35153846153846"
      ]
     },
     "execution_count": 73,
     "metadata": {},
     "output_type": "execute_result"
    }
   ],
   "source": [
    "df['Previous Purchases'].mean()"
   ]
  },
  {
   "cell_type": "markdown",
   "metadata": {},
   "source": [
    "### Exercise 2(j) (5 points)\n",
    "\n",
    "Is there a relationship between `Purchase Amount (USD)` and `Review Rating`? Create the appropriate chart to answer this question."
   ]
  },
  {
   "cell_type": "code",
   "execution_count": 79,
   "metadata": {},
   "outputs": [
    {
     "data": {
      "image/png": "[encoded data removed]",
      "text/plain": [
       "<Figure size 1000x700 with 1 Axes>"
      ]
     },
     "metadata": {},
     "output_type": "display_data"
    }
   ],
   "source": [
    "fig, ax = plt.subplots(figsize = (10,7))\n",
    "\n",
    "sns.boxplot(x=df['Review Rating'], y=df['Purchase Amount (USD)'])\n",
    "plt.title('Purchase Amount by Review Rating')\n",
    "plt.xlabel('Review Rating')\n",
    "plt.ylabel('Purchase Amount (USD)')\n",
    "plt.show()"
   ]
  },
  {
   "cell_type": "markdown",
   "metadata": {},
   "source": [
    "From the above chart, it doesn't look like there is much of a correlation. The rating of 5 has the has the highest and tightest 1-4th quartile range but the means are all over the place showing no real trend"
   ]
  },
  {
   "cell_type": "markdown",
   "metadata": {},
   "source": [
    "### Exercise 2(k) (3 points)\n",
    "\n",
    "What percentage of customers use a subscription service?"
   ]
  },
  {
   "cell_type": "code",
   "execution_count": 80,
   "metadata": {},
   "outputs": [
    {
     "name": "stdout",
     "output_type": "stream",
     "text": [
      "27.0 %\n"
     ]
    }
   ],
   "source": [
    "print((df[df['Subscription Status'] == 'Yes'].shape[0]/df.shape[0])*100,'%')"
   ]
  },
  {
   "cell_type": "markdown",
   "metadata": {},
   "source": [
    "### Exercise 2(l) (5 points)\n",
    "\n",
    "What is the frequency of different shipping types selected by customers? Create the appropriate chart to answer this question."
   ]
  },
  {
   "cell_type": "code",
   "execution_count": 83,
   "metadata": {},
   "outputs": [
    {
     "data": {
      "image/png": "[encoded data removed]",
      "text/plain": [
       "<Figure size 1000x700 with 1 Axes>"
      ]
     },
     "metadata": {},
     "output_type": "display_data"
    }
   ],
   "source": [
    "fig, ax = plt.subplots(figsize = (10,7))\n",
    "\n",
    "sns.barplot(df['Shipping Type'])\n",
    "plt.title('Shipping Types')\n",
    "plt.xlabel('Count')\n",
    "plt.ylabel('Shipping Type')\n",
    "plt.show()"
   ]
  },
  {
   "cell_type": "markdown",
   "metadata": {},
   "source": [
    "From the above chart we can see 1-Day and free shipping are the most common "
   ]
  }
 ],
 "metadata": {
  "kernelspec": {
   "display_name": "Python 3",
   "language": "python",
   "name": "python3"
  },
  "language_info": {
   "codemirror_mode": {
    "name": "ipython",
    "version": 3
   },
   "file_extension": ".py",
   "mimetype": "text/x-python",
   "name": "python",
   "nbconvert_exporter": "python",
   "pygments_lexer": "ipython3",
   "version": "3.10.2"
  }
 },
 "nbformat": 4,
 "nbformat_minor": 2
}
